{
  "nbformat": 4,
  "nbformat_minor": 0,
  "metadata": {
    "colab": {
      "provenance": []
    },
    "kernelspec": {
      "name": "python3",
      "display_name": "Python 3"
    },
    "language_info": {
      "name": "python"
    }
  },
  "cells": [
    {
      "cell_type": "code",
      "execution_count": 2,
      "metadata": {
        "id": "nGmJFZxU13Fd",
        "colab": {
          "base_uri": "https://localhost:8080/"
        },
        "outputId": "e9b3f5da-2736-4669-a1b4-877f24f75651"
      },
      "outputs": [
        {
          "output_type": "stream",
          "name": "stdout",
          "text": [
            "Requirement already satisfied: nltk in /usr/local/lib/python3.10/dist-packages (3.8.1)\n",
            "Requirement already satisfied: spacy in /usr/local/lib/python3.10/dist-packages (3.7.5)\n",
            "Requirement already satisfied: beautifulsoup4 in /usr/local/lib/python3.10/dist-packages (4.12.3)\n",
            "Requirement already satisfied: kaggle in /usr/local/lib/python3.10/dist-packages (1.6.14)\n",
            "Requirement already satisfied: click in /usr/local/lib/python3.10/dist-packages (from nltk) (8.1.7)\n",
            "Requirement already satisfied: joblib in /usr/local/lib/python3.10/dist-packages (from nltk) (1.4.2)\n",
            "Requirement already satisfied: regex>=2021.8.3 in /usr/local/lib/python3.10/dist-packages (from nltk) (2024.5.15)\n",
            "Requirement already satisfied: tqdm in /usr/local/lib/python3.10/dist-packages (from nltk) (4.66.4)\n",
            "Requirement already satisfied: spacy-legacy<3.1.0,>=3.0.11 in /usr/local/lib/python3.10/dist-packages (from spacy) (3.0.12)\n",
            "Requirement already satisfied: spacy-loggers<2.0.0,>=1.0.0 in /usr/local/lib/python3.10/dist-packages (from spacy) (1.0.5)\n",
            "Requirement already satisfied: murmurhash<1.1.0,>=0.28.0 in /usr/local/lib/python3.10/dist-packages (from spacy) (1.0.10)\n",
            "Requirement already satisfied: cymem<2.1.0,>=2.0.2 in /usr/local/lib/python3.10/dist-packages (from spacy) (2.0.8)\n",
            "Requirement already satisfied: preshed<3.1.0,>=3.0.2 in /usr/local/lib/python3.10/dist-packages (from spacy) (3.0.9)\n",
            "Requirement already satisfied: thinc<8.3.0,>=8.2.2 in /usr/local/lib/python3.10/dist-packages (from spacy) (8.2.5)\n",
            "Requirement already satisfied: wasabi<1.2.0,>=0.9.1 in /usr/local/lib/python3.10/dist-packages (from spacy) (1.1.3)\n",
            "Requirement already satisfied: srsly<3.0.0,>=2.4.3 in /usr/local/lib/python3.10/dist-packages (from spacy) (2.4.8)\n",
            "Requirement already satisfied: catalogue<2.1.0,>=2.0.6 in /usr/local/lib/python3.10/dist-packages (from spacy) (2.0.10)\n",
            "Requirement already satisfied: weasel<0.5.0,>=0.1.0 in /usr/local/lib/python3.10/dist-packages (from spacy) (0.4.1)\n",
            "Requirement already satisfied: typer<1.0.0,>=0.3.0 in /usr/local/lib/python3.10/dist-packages (from spacy) (0.12.3)\n",
            "Requirement already satisfied: requests<3.0.0,>=2.13.0 in /usr/local/lib/python3.10/dist-packages (from spacy) (2.31.0)\n",
            "Requirement already satisfied: pydantic!=1.8,!=1.8.1,<3.0.0,>=1.7.4 in /usr/local/lib/python3.10/dist-packages (from spacy) (2.8.0)\n",
            "Requirement already satisfied: jinja2 in /usr/local/lib/python3.10/dist-packages (from spacy) (3.1.4)\n",
            "Requirement already satisfied: setuptools in /usr/local/lib/python3.10/dist-packages (from spacy) (67.7.2)\n",
            "Requirement already satisfied: packaging>=20.0 in /usr/local/lib/python3.10/dist-packages (from spacy) (24.1)\n",
            "Requirement already satisfied: langcodes<4.0.0,>=3.2.0 in /usr/local/lib/python3.10/dist-packages (from spacy) (3.4.0)\n",
            "Requirement already satisfied: numpy>=1.19.0 in /usr/local/lib/python3.10/dist-packages (from spacy) (1.25.2)\n",
            "Requirement already satisfied: soupsieve>1.2 in /usr/local/lib/python3.10/dist-packages (from beautifulsoup4) (2.5)\n",
            "Requirement already satisfied: six>=1.10 in /usr/local/lib/python3.10/dist-packages (from kaggle) (1.16.0)\n",
            "Requirement already satisfied: certifi>=2023.7.22 in /usr/local/lib/python3.10/dist-packages (from kaggle) (2024.6.2)\n",
            "Requirement already satisfied: python-dateutil in /usr/local/lib/python3.10/dist-packages (from kaggle) (2.8.2)\n",
            "Requirement already satisfied: python-slugify in /usr/local/lib/python3.10/dist-packages (from kaggle) (8.0.4)\n",
            "Requirement already satisfied: urllib3 in /usr/local/lib/python3.10/dist-packages (from kaggle) (2.0.7)\n",
            "Requirement already satisfied: bleach in /usr/local/lib/python3.10/dist-packages (from kaggle) (6.1.0)\n",
            "Requirement already satisfied: language-data>=1.2 in /usr/local/lib/python3.10/dist-packages (from langcodes<4.0.0,>=3.2.0->spacy) (1.2.0)\n",
            "Requirement already satisfied: annotated-types>=0.4.0 in /usr/local/lib/python3.10/dist-packages (from pydantic!=1.8,!=1.8.1,<3.0.0,>=1.7.4->spacy) (0.7.0)\n",
            "Requirement already satisfied: pydantic-core==2.20.0 in /usr/local/lib/python3.10/dist-packages (from pydantic!=1.8,!=1.8.1,<3.0.0,>=1.7.4->spacy) (2.20.0)\n",
            "Requirement already satisfied: typing-extensions>=4.6.1 in /usr/local/lib/python3.10/dist-packages (from pydantic!=1.8,!=1.8.1,<3.0.0,>=1.7.4->spacy) (4.12.2)\n",
            "Requirement already satisfied: charset-normalizer<4,>=2 in /usr/local/lib/python3.10/dist-packages (from requests<3.0.0,>=2.13.0->spacy) (3.3.2)\n",
            "Requirement already satisfied: idna<4,>=2.5 in /usr/local/lib/python3.10/dist-packages (from requests<3.0.0,>=2.13.0->spacy) (3.7)\n",
            "Requirement already satisfied: blis<0.8.0,>=0.7.8 in /usr/local/lib/python3.10/dist-packages (from thinc<8.3.0,>=8.2.2->spacy) (0.7.11)\n",
            "Requirement already satisfied: confection<1.0.0,>=0.0.1 in /usr/local/lib/python3.10/dist-packages (from thinc<8.3.0,>=8.2.2->spacy) (0.1.5)\n",
            "Requirement already satisfied: shellingham>=1.3.0 in /usr/local/lib/python3.10/dist-packages (from typer<1.0.0,>=0.3.0->spacy) (1.5.4)\n",
            "Requirement already satisfied: rich>=10.11.0 in /usr/local/lib/python3.10/dist-packages (from typer<1.0.0,>=0.3.0->spacy) (13.7.1)\n",
            "Requirement already satisfied: cloudpathlib<1.0.0,>=0.7.0 in /usr/local/lib/python3.10/dist-packages (from weasel<0.5.0,>=0.1.0->spacy) (0.18.1)\n",
            "Requirement already satisfied: smart-open<8.0.0,>=5.2.1 in /usr/local/lib/python3.10/dist-packages (from weasel<0.5.0,>=0.1.0->spacy) (7.0.4)\n",
            "Requirement already satisfied: webencodings in /usr/local/lib/python3.10/dist-packages (from bleach->kaggle) (0.5.1)\n",
            "Requirement already satisfied: MarkupSafe>=2.0 in /usr/local/lib/python3.10/dist-packages (from jinja2->spacy) (2.1.5)\n",
            "Requirement already satisfied: text-unidecode>=1.3 in /usr/local/lib/python3.10/dist-packages (from python-slugify->kaggle) (1.3)\n",
            "Requirement already satisfied: marisa-trie>=0.7.7 in /usr/local/lib/python3.10/dist-packages (from language-data>=1.2->langcodes<4.0.0,>=3.2.0->spacy) (1.2.0)\n",
            "Requirement already satisfied: markdown-it-py>=2.2.0 in /usr/local/lib/python3.10/dist-packages (from rich>=10.11.0->typer<1.0.0,>=0.3.0->spacy) (3.0.0)\n",
            "Requirement already satisfied: pygments<3.0.0,>=2.13.0 in /usr/local/lib/python3.10/dist-packages (from rich>=10.11.0->typer<1.0.0,>=0.3.0->spacy) (2.16.1)\n",
            "Requirement already satisfied: wrapt in /usr/local/lib/python3.10/dist-packages (from smart-open<8.0.0,>=5.2.1->weasel<0.5.0,>=0.1.0->spacy) (1.14.1)\n",
            "Requirement already satisfied: mdurl~=0.1 in /usr/local/lib/python3.10/dist-packages (from markdown-it-py>=2.2.0->rich>=10.11.0->typer<1.0.0,>=0.3.0->spacy) (0.1.2)\n",
            "Collecting en-core-web-sm==3.7.1\n",
            "  Downloading https://github.com/explosion/spacy-models/releases/download/en_core_web_sm-3.7.1/en_core_web_sm-3.7.1-py3-none-any.whl (12.8 MB)\n",
            "\u001b[2K     \u001b[90m━━━━━━━━━━━━━━━━━━━━━━━━━━━━━━━━━━━━━━━━\u001b[0m \u001b[32m12.8/12.8 MB\u001b[0m \u001b[31m27.0 MB/s\u001b[0m eta \u001b[36m0:00:00\u001b[0m\n",
            "\u001b[?25hRequirement already satisfied: spacy<3.8.0,>=3.7.2 in /usr/local/lib/python3.10/dist-packages (from en-core-web-sm==3.7.1) (3.7.5)\n",
            "Requirement already satisfied: spacy-legacy<3.1.0,>=3.0.11 in /usr/local/lib/python3.10/dist-packages (from spacy<3.8.0,>=3.7.2->en-core-web-sm==3.7.1) (3.0.12)\n",
            "Requirement already satisfied: spacy-loggers<2.0.0,>=1.0.0 in /usr/local/lib/python3.10/dist-packages (from spacy<3.8.0,>=3.7.2->en-core-web-sm==3.7.1) (1.0.5)\n",
            "Requirement already satisfied: murmurhash<1.1.0,>=0.28.0 in /usr/local/lib/python3.10/dist-packages (from spacy<3.8.0,>=3.7.2->en-core-web-sm==3.7.1) (1.0.10)\n",
            "Requirement already satisfied: cymem<2.1.0,>=2.0.2 in /usr/local/lib/python3.10/dist-packages (from spacy<3.8.0,>=3.7.2->en-core-web-sm==3.7.1) (2.0.8)\n",
            "Requirement already satisfied: preshed<3.1.0,>=3.0.2 in /usr/local/lib/python3.10/dist-packages (from spacy<3.8.0,>=3.7.2->en-core-web-sm==3.7.1) (3.0.9)\n",
            "Requirement already satisfied: thinc<8.3.0,>=8.2.2 in /usr/local/lib/python3.10/dist-packages (from spacy<3.8.0,>=3.7.2->en-core-web-sm==3.7.1) (8.2.5)\n",
            "Requirement already satisfied: wasabi<1.2.0,>=0.9.1 in /usr/local/lib/python3.10/dist-packages (from spacy<3.8.0,>=3.7.2->en-core-web-sm==3.7.1) (1.1.3)\n",
            "Requirement already satisfied: srsly<3.0.0,>=2.4.3 in /usr/local/lib/python3.10/dist-packages (from spacy<3.8.0,>=3.7.2->en-core-web-sm==3.7.1) (2.4.8)\n",
            "Requirement already satisfied: catalogue<2.1.0,>=2.0.6 in /usr/local/lib/python3.10/dist-packages (from spacy<3.8.0,>=3.7.2->en-core-web-sm==3.7.1) (2.0.10)\n",
            "Requirement already satisfied: weasel<0.5.0,>=0.1.0 in /usr/local/lib/python3.10/dist-packages (from spacy<3.8.0,>=3.7.2->en-core-web-sm==3.7.1) (0.4.1)\n",
            "Requirement already satisfied: typer<1.0.0,>=0.3.0 in /usr/local/lib/python3.10/dist-packages (from spacy<3.8.0,>=3.7.2->en-core-web-sm==3.7.1) (0.12.3)\n",
            "Requirement already satisfied: tqdm<5.0.0,>=4.38.0 in /usr/local/lib/python3.10/dist-packages (from spacy<3.8.0,>=3.7.2->en-core-web-sm==3.7.1) (4.66.4)\n",
            "Requirement already satisfied: requests<3.0.0,>=2.13.0 in /usr/local/lib/python3.10/dist-packages (from spacy<3.8.0,>=3.7.2->en-core-web-sm==3.7.1) (2.31.0)\n",
            "Requirement already satisfied: pydantic!=1.8,!=1.8.1,<3.0.0,>=1.7.4 in /usr/local/lib/python3.10/dist-packages (from spacy<3.8.0,>=3.7.2->en-core-web-sm==3.7.1) (2.8.0)\n",
            "Requirement already satisfied: jinja2 in /usr/local/lib/python3.10/dist-packages (from spacy<3.8.0,>=3.7.2->en-core-web-sm==3.7.1) (3.1.4)\n",
            "Requirement already satisfied: setuptools in /usr/local/lib/python3.10/dist-packages (from spacy<3.8.0,>=3.7.2->en-core-web-sm==3.7.1) (67.7.2)\n",
            "Requirement already satisfied: packaging>=20.0 in /usr/local/lib/python3.10/dist-packages (from spacy<3.8.0,>=3.7.2->en-core-web-sm==3.7.1) (24.1)\n",
            "Requirement already satisfied: langcodes<4.0.0,>=3.2.0 in /usr/local/lib/python3.10/dist-packages (from spacy<3.8.0,>=3.7.2->en-core-web-sm==3.7.1) (3.4.0)\n",
            "Requirement already satisfied: numpy>=1.19.0 in /usr/local/lib/python3.10/dist-packages (from spacy<3.8.0,>=3.7.2->en-core-web-sm==3.7.1) (1.25.2)\n",
            "Requirement already satisfied: language-data>=1.2 in /usr/local/lib/python3.10/dist-packages (from langcodes<4.0.0,>=3.2.0->spacy<3.8.0,>=3.7.2->en-core-web-sm==3.7.1) (1.2.0)\n",
            "Requirement already satisfied: annotated-types>=0.4.0 in /usr/local/lib/python3.10/dist-packages (from pydantic!=1.8,!=1.8.1,<3.0.0,>=1.7.4->spacy<3.8.0,>=3.7.2->en-core-web-sm==3.7.1) (0.7.0)\n",
            "Requirement already satisfied: pydantic-core==2.20.0 in /usr/local/lib/python3.10/dist-packages (from pydantic!=1.8,!=1.8.1,<3.0.0,>=1.7.4->spacy<3.8.0,>=3.7.2->en-core-web-sm==3.7.1) (2.20.0)\n",
            "Requirement already satisfied: typing-extensions>=4.6.1 in /usr/local/lib/python3.10/dist-packages (from pydantic!=1.8,!=1.8.1,<3.0.0,>=1.7.4->spacy<3.8.0,>=3.7.2->en-core-web-sm==3.7.1) (4.12.2)\n",
            "Requirement already satisfied: charset-normalizer<4,>=2 in /usr/local/lib/python3.10/dist-packages (from requests<3.0.0,>=2.13.0->spacy<3.8.0,>=3.7.2->en-core-web-sm==3.7.1) (3.3.2)\n",
            "Requirement already satisfied: idna<4,>=2.5 in /usr/local/lib/python3.10/dist-packages (from requests<3.0.0,>=2.13.0->spacy<3.8.0,>=3.7.2->en-core-web-sm==3.7.1) (3.7)\n",
            "Requirement already satisfied: urllib3<3,>=1.21.1 in /usr/local/lib/python3.10/dist-packages (from requests<3.0.0,>=2.13.0->spacy<3.8.0,>=3.7.2->en-core-web-sm==3.7.1) (2.0.7)\n",
            "Requirement already satisfied: certifi>=2017.4.17 in /usr/local/lib/python3.10/dist-packages (from requests<3.0.0,>=2.13.0->spacy<3.8.0,>=3.7.2->en-core-web-sm==3.7.1) (2024.6.2)\n",
            "Requirement already satisfied: blis<0.8.0,>=0.7.8 in /usr/local/lib/python3.10/dist-packages (from thinc<8.3.0,>=8.2.2->spacy<3.8.0,>=3.7.2->en-core-web-sm==3.7.1) (0.7.11)\n",
            "Requirement already satisfied: confection<1.0.0,>=0.0.1 in /usr/local/lib/python3.10/dist-packages (from thinc<8.3.0,>=8.2.2->spacy<3.8.0,>=3.7.2->en-core-web-sm==3.7.1) (0.1.5)\n",
            "Requirement already satisfied: click>=8.0.0 in /usr/local/lib/python3.10/dist-packages (from typer<1.0.0,>=0.3.0->spacy<3.8.0,>=3.7.2->en-core-web-sm==3.7.1) (8.1.7)\n",
            "Requirement already satisfied: shellingham>=1.3.0 in /usr/local/lib/python3.10/dist-packages (from typer<1.0.0,>=0.3.0->spacy<3.8.0,>=3.7.2->en-core-web-sm==3.7.1) (1.5.4)\n",
            "Requirement already satisfied: rich>=10.11.0 in /usr/local/lib/python3.10/dist-packages (from typer<1.0.0,>=0.3.0->spacy<3.8.0,>=3.7.2->en-core-web-sm==3.7.1) (13.7.1)\n",
            "Requirement already satisfied: cloudpathlib<1.0.0,>=0.7.0 in /usr/local/lib/python3.10/dist-packages (from weasel<0.5.0,>=0.1.0->spacy<3.8.0,>=3.7.2->en-core-web-sm==3.7.1) (0.18.1)\n",
            "Requirement already satisfied: smart-open<8.0.0,>=5.2.1 in /usr/local/lib/python3.10/dist-packages (from weasel<0.5.0,>=0.1.0->spacy<3.8.0,>=3.7.2->en-core-web-sm==3.7.1) (7.0.4)\n",
            "Requirement already satisfied: MarkupSafe>=2.0 in /usr/local/lib/python3.10/dist-packages (from jinja2->spacy<3.8.0,>=3.7.2->en-core-web-sm==3.7.1) (2.1.5)\n",
            "Requirement already satisfied: marisa-trie>=0.7.7 in /usr/local/lib/python3.10/dist-packages (from language-data>=1.2->langcodes<4.0.0,>=3.2.0->spacy<3.8.0,>=3.7.2->en-core-web-sm==3.7.1) (1.2.0)\n",
            "Requirement already satisfied: markdown-it-py>=2.2.0 in /usr/local/lib/python3.10/dist-packages (from rich>=10.11.0->typer<1.0.0,>=0.3.0->spacy<3.8.0,>=3.7.2->en-core-web-sm==3.7.1) (3.0.0)\n",
            "Requirement already satisfied: pygments<3.0.0,>=2.13.0 in /usr/local/lib/python3.10/dist-packages (from rich>=10.11.0->typer<1.0.0,>=0.3.0->spacy<3.8.0,>=3.7.2->en-core-web-sm==3.7.1) (2.16.1)\n",
            "Requirement already satisfied: wrapt in /usr/local/lib/python3.10/dist-packages (from smart-open<8.0.0,>=5.2.1->weasel<0.5.0,>=0.1.0->spacy<3.8.0,>=3.7.2->en-core-web-sm==3.7.1) (1.14.1)\n",
            "Requirement already satisfied: mdurl~=0.1 in /usr/local/lib/python3.10/dist-packages (from markdown-it-py>=2.2.0->rich>=10.11.0->typer<1.0.0,>=0.3.0->spacy<3.8.0,>=3.7.2->en-core-web-sm==3.7.1) (0.1.2)\n",
            "\u001b[38;5;2m✔ Download and installation successful\u001b[0m\n",
            "You can now load the package via spacy.load('en_core_web_sm')\n",
            "\u001b[38;5;3m⚠ Restart to reload dependencies\u001b[0m\n",
            "If you are in a Jupyter or Colab notebook, you may need to restart Python in\n",
            "order to load all the package's dependencies. You can do this by selecting the\n",
            "'Restart kernel' or 'Restart runtime' option.\n"
          ]
        }
      ],
      "source": [
        "!pip install nltk spacy beautifulsoup4 kaggle\n",
        "!python -m spacy download en_core_web_sm\n",
        "\n",
        "import nltk\n",
        "from nltk.tokenize import word_tokenize, RegexpTokenizer, sent_tokenize\n",
        "from nltk.stem import WordNetLemmatizer, PorterStemmer\n",
        "from nltk.corpus import stopwords\n",
        "from nltk.corpus import wordnet\n",
        "from nltk import pos_tag\n",
        "import spacy\n",
        "from spacy.lang.en import English\n",
        "from bs4 import BeautifulSoup\n",
        "import pandas as pd\n",
        "import requests\n",
        "from collections import Counter\n",
        "from sklearn.feature_extraction.text import CountVectorizer, TfidfVectorizer\n",
        "from gensim.models import Word2Vec\n"
      ]
    },
    {
      "cell_type": "code",
      "source": [
        "# Initialize nltk components\n",
        "nltk.download('punkt')\n",
        "nltk.download('wordnet')\n",
        "nltk.download('stopwords')\n",
        "nltk.download('omw-1.4')\n",
        "nltk.download('averaged_perceptron_tagger')\n",
        "nltk.download('punkt')\n",
        "\n",
        "\n",
        "# Load spaCy models\n",
        "nlp_spacy = spacy.load('en_core_web_sm')"
      ],
      "metadata": {
        "id": "KAhqtyMh6fAN",
        "colab": {
          "base_uri": "https://localhost:8080/"
        },
        "outputId": "c1423a50-c1fc-4f37-e38f-8ab831f0c2ee"
      },
      "execution_count": 3,
      "outputs": [
        {
          "output_type": "stream",
          "name": "stderr",
          "text": [
            "[nltk_data] Downloading package punkt to /root/nltk_data...\n",
            "[nltk_data]   Unzipping tokenizers/punkt.zip.\n",
            "[nltk_data] Downloading package wordnet to /root/nltk_data...\n",
            "[nltk_data] Downloading package stopwords to /root/nltk_data...\n",
            "[nltk_data]   Unzipping corpora/stopwords.zip.\n",
            "[nltk_data] Downloading package omw-1.4 to /root/nltk_data...\n",
            "[nltk_data] Downloading package averaged_perceptron_tagger to\n",
            "[nltk_data]     /root/nltk_data...\n",
            "[nltk_data]   Unzipping taggers/averaged_perceptron_tagger.zip.\n",
            "[nltk_data] Downloading package punkt to /root/nltk_data...\n",
            "[nltk_data]   Package punkt is already up-to-date!\n"
          ]
        }
      ]
    },
    {
      "cell_type": "markdown",
      "source": [
        "# **The corpus we created in HW1**"
      ],
      "metadata": {
        "id": "YbD7t7Et8fDD"
      }
    },
    {
      "cell_type": "code",
      "source": [
        "# Use BeautifulSoup to scrape text data from a public page on one of your social media profiles.\n",
        "url = 'https://en.wikipedia.org/wiki/English_Springer_Spaniel'\n",
        "response = requests.get(url)\n",
        "soup = BeautifulSoup(response.content, 'html.parser')\n",
        "print(soup.title)\n",
        "\n",
        "scraped_text = ' '.join(p.get_text() for p in soup.find_all('p'))\n",
        "print(\"Scraped Text:\", scraped_text[:500])  # Print the first 500 characters to verify\n"
      ],
      "metadata": {
        "id": "s0jtda4963Ko",
        "colab": {
          "base_uri": "https://localhost:8080/"
        },
        "outputId": "b8f9942d-41fb-4c6b-ded2-837c7af65763"
      },
      "execution_count": 4,
      "outputs": [
        {
          "output_type": "stream",
          "name": "stdout",
          "text": [
            "<title>English Springer Spaniel - Wikipedia</title>\n",
            "Scraped Text: \n",
            " The English Springer Spaniel is a breed of gun dog in the Spaniel group traditionally used for flushing and retrieving game. They are descended from the Norfolk or Shropshire Spaniels of the mid-19th century; the breed has diverged into separate show and working lines. It is closely related to the Welsh Springer Spaniel and very closely to the English Cocker Spaniel; less than a century ago, springers and cockers would come from the same litter. The smaller \"cockers\" were used in woodcock hunt\n"
          ]
        }
      ]
    },
    {
      "cell_type": "markdown",
      "source": [
        "# **Tokenization**\n"
      ],
      "metadata": {
        "id": "SAoXKKCf8ohI"
      }
    },
    {
      "cell_type": "code",
      "source": [
        "# White space tokenizer function\n",
        "def white_space_tokenizer(text):\n",
        "    return text.split()\n",
        "\n",
        "\n",
        "# Example usage:\n",
        "tokens_whitespace =  white_space_tokenizer(scraped_text)\n",
        "print(tokens_whitespace[:100])"
      ],
      "metadata": {
        "colab": {
          "base_uri": "https://localhost:8080/"
        },
        "id": "izcn2PTF8t_N",
        "outputId": "afef0e98-676f-4611-80bf-fab7e920223a"
      },
      "execution_count": 5,
      "outputs": [
        {
          "output_type": "stream",
          "name": "stdout",
          "text": [
            "['The', 'English', 'Springer', 'Spaniel', 'is', 'a', 'breed', 'of', 'gun', 'dog', 'in', 'the', 'Spaniel', 'group', 'traditionally', 'used', 'for', 'flushing', 'and', 'retrieving', 'game.', 'They', 'are', 'descended', 'from', 'the', 'Norfolk', 'or', 'Shropshire', 'Spaniels', 'of', 'the', 'mid-19th', 'century;', 'the', 'breed', 'has', 'diverged', 'into', 'separate', 'show', 'and', 'working', 'lines.', 'It', 'is', 'closely', 'related', 'to', 'the', 'Welsh', 'Springer', 'Spaniel', 'and', 'very', 'closely', 'to', 'the', 'English', 'Cocker', 'Spaniel;', 'less', 'than', 'a', 'century', 'ago,', 'springers', 'and', 'cockers', 'would', 'come', 'from', 'the', 'same', 'litter.', 'The', 'smaller', '\"cockers\"', 'were', 'used', 'in', 'woodcock', 'hunting', 'while', 'their', 'larger', 'littermates', 'were', 'used', 'to', 'flush,', 'or', '\"spring\",', 'other', 'game', 'birds,', 'hence', 'the', 'name.', 'In']\n"
          ]
        }
      ]
    },
    {
      "cell_type": "code",
      "source": [
        "# Initialize regex tokenizer\n",
        "tokenizer_regex = RegexpTokenizer(r'\\w+')\n",
        "\n",
        "# Example usage:\n",
        "regex_tokens = tokenizer_regex.tokenize(scraped_text)\n",
        "\n",
        "print(regex_tokens)\n"
      ],
      "metadata": {
        "colab": {
          "base_uri": "https://localhost:8080/"
        },
        "id": "buiZLOpg9f4_",
        "outputId": "ecf12708-2545-4cad-eafa-8075b82491b8"
      },
      "execution_count": 6,
      "outputs": [
        {
          "output_type": "stream",
          "name": "stdout",
          "text": [
            "['The', 'English', 'Springer', 'Spaniel', 'is', 'a', 'breed', 'of', 'gun', 'dog', 'in', 'the', 'Spaniel', 'group', 'traditionally', 'used', 'for', 'flushing', 'and', 'retrieving', 'game', 'They', 'are', 'descended', 'from', 'the', 'Norfolk', 'or', 'Shropshire', 'Spaniels', 'of', 'the', 'mid', '19th', 'century', 'the', 'breed', 'has', 'diverged', 'into', 'separate', 'show', 'and', 'working', 'lines', 'It', 'is', 'closely', 'related', 'to', 'the', 'Welsh', 'Springer', 'Spaniel', 'and', 'very', 'closely', 'to', 'the', 'English', 'Cocker', 'Spaniel', 'less', 'than', 'a', 'century', 'ago', 'springers', 'and', 'cockers', 'would', 'come', 'from', 'the', 'same', 'litter', 'The', 'smaller', 'cockers', 'were', 'used', 'in', 'woodcock', 'hunting', 'while', 'their', 'larger', 'littermates', 'were', 'used', 'to', 'flush', 'or', 'spring', 'other', 'game', 'birds', 'hence', 'the', 'name', 'In', '1902', 'The', 'Kennel', 'Club', 'recognized', 'the', 'English', 'Springer', 'Spaniel', 'as', 'a', 'distinct', 'breed', '1', 'They', 'are', 'used', 'as', 'sniffer', 'dogs', 'on', 'a', 'widespread', 'basis', 'The', 'English', 'Springer', 'Spaniel', 'is', 'a', 'medium', 'sized', 'compact', 'dog', 'Its', 'coat', 'is', 'moderately', 'long', 'with', 'feathering', 'on', 'the', 'legs', 'and', 'tail', 'It', 'is', 'a', 'well', 'proportioned', 'balanced', 'dog', 'with', 'a', 'gentle', 'expression', 'This', 'breed', 'represents', 'perhaps', 'the', 'greatest', 'divergence', 'between', 'working', 'and', 'show', 'lines', 'of', 'any', 'breed', 'of', 'dog', 'A', 'field', 'bred', 'dog', 'and', 'a', 'show', 'bred', 'dog', 'appear', 'to', 'be', 'different', 'breeds', 'but', 'are', 'registered', 'together', 'The', 'gene', 'pools', 'are', 'almost', 'completely', 'segregated', 'and', 'have', 'been', 'for', 'at', 'least', '70', 'years', '2', 'A', 'field', 'bred', 'dog', 'would', 'not', 'be', 'competitive', 'in', 'a', 'modern', 'dog', 'show', 'while', 'a', 'show', 'dog', 'would', 'not', 'have', 'the', 'speed', 'or', 'stamina', 'to', 'succeed', 'in', 'a', 'field', 'trial', '3', 'The', 'English', 'Springer', 'Spaniel', 'field', 'bred', 'dogs', 'tend', 'to', 'have', 'shorter', 'coarser', 'coats', 'than', 'show', 'bred', 'dogs', 'The', 'ears', 'are', 'less', 'pendulous', 'Field', 'bred', 'dogs', 'are', 'wiry', 'and', 'have', 'more', 'of', 'a', 'feral', 'look', 'than', 'those', 'bred', 'for', 'showing', 'The', 'tail', 'of', 'the', 'field', 'bred', 'dog', 'may', 'be', 'docked', 'a', 'few', 'inches', 'in', 'comparison', 'to', 'the', 'show', 'dog', 'Field', 'bred', 'dogs', 'are', 'selected', 'for', 'their', 'sense', 'of', 'smell', 'hunting', 'ability', 'and', 'response', 'to', 'training', 'rather', 'than', 'appearance', '3', 'Show', 'dogs', 'have', 'longer', 'fur', 'and', 'more', 'pendant', 'ears', 'dewlaps', 'and', 'dangling', 'flews', 'The', 'tail', 'is', 'docked', 'to', 'a', 'short', 'stub', 'in', 'those', 'countries', 'that', 'permit', 'docking', 'They', 'are', 'generally', 'more', 'thickly', 'boned', 'and', 'heavier', 'than', 'field', 'bred', 'springers', '3', 'The', 'English', 'Springer', 'Spaniel', 'is', 'similar', 'to', 'the', 'English', 'Cocker', 'Spaniel', 'and', 'at', 'first', 'glance', 'the', 'only', 'major', 'difference', 'is', 'the', 'latter', 's', 'smaller', 'size', 'However', 'English', 'Springers', 'also', 'tend', 'to', 'have', 'shorter', 'and', 'higher', 'set', 'ears', 'than', 'English', 'Cockers', 'Springers', 'also', 'tend', 'to', 'have', 'a', 'longer', 'muzzle', 'their', 'eyes', 'are', 'not', 'as', 'prominent', 'and', 'the', 'coat', 'is', 'less', 'abundant', '4', 'The', 'major', 'differences', 'between', 'the', 'Welsh', 'Springer', 'and', 'the', 'English', 'Springer', 'are', 'that', 'the', 'Welsh', 'have', 'more', 'limited', 'colors', 'and', 'tend', 'to', 'be', 'slightly', 'smaller', 'Field', 'bred', 'dogs', 'tend', 'to', 'have', 'shorter', 'coarser', 'coats', 'than', 'the', 'longer', 'furred', 'show', 'bred', 'dogs', 'They', 'normally', 'only', 'shed', 'in', 'summer', 'and', 'spring', 'months', 'but', 'shed', 'occasionally', 'in', 'the', 'autumn', '2', 'The', 'coat', 'comes', 'in', 'black', 'or', 'liver', 'dark', 'brown', 'with', 'white', 'markings', 'or', 'predominantly', 'white', 'with', 'black', 'or', 'liver', 'markings', 'Tricolour', 'black', 'and', 'white', 'or', 'liver', 'and', 'white', 'with', 'tan', 'markings', 'usually', 'found', 'on', 'eyebrows', 'cheeks', 'inside', 'of', 'ears', 'and', 'under', 'the', 'tail', 'Any', 'white', 'portion', 'of', 'the', 'coat', 'may', 'be', 'flecked', 'with', 'ticking', 'citation', 'needed', 'Males', 'in', 'the', 'show', 'dog', 'line', 'are', 'typically', 'approximately', '19', 'to', '21', 'inches', '48', 'to', '53', 'cm', 'at', 'the', 'withers', 'and', 'weigh', '40', 'to', '60', 'lb', '18', 'to', '27', 'kg', 'According', 'to', 'the', 'UK', 'Breed', 'Standard', 'the', 'English', 'Springer', 'Spaniel', 'should', 'be', '20', 'inches', '51', 'cm', 'at', 'the', 'withers', 'The', 'females', 'should', 'be', '18', 'to', '20', 'inches', '46', 'to', '51', 'cm', 'and', 'usually', '35', 'to', '55', 'lb', '16', 'to', '25', 'kg', 'Working', 'types', 'can', 'be', 'lighter', 'in', 'weight', 'and', 'finer', 'in', 'bone', '5', 'The', 'English', 'Springer', 'Spaniel', 'ranks', '13th', 'in', 'Stanley', 'Coren', 's', 'The', 'Intelligence', 'of', 'Dogs', 'citation', 'needed', 'A', '2022', 'UK', 'study', 'found', 'a', 'life', 'expectancy', 'of', '11', '92', 'years', 'for', 'the', 'breed', 'above', 'the', 'average', 'of', '11', '23', 'years', '6', 'A', '2024', 'UK', 'study', 'found', 'a', 'life', 'expectancy', 'of', '13', '5', 'years', 'for', 'the', 'breed', 'compared', 'to', 'an', 'average', 'of', '12', '7', 'for', 'purebreeds', 'and', '12', 'for', 'crossbreeds', '7', 'A', '2005', 'Swedish', 'study', 'found', '29', 'of', 'Spring', 'Spaniels', 'died', 'by', 'the', 'age', 'of', '10', 'less', 'than', 'the', 'overall', 'rate', 'of', '35', 'of', 'dogs', 'dying', 'by', 'the', 'age', 'of', '10', '8', 'Skin', 'conditions', 'the', 'breed', 'is', 'predisposed', 'to', 'include', 'acral', 'mutilation', 'syndrome', 'intertrigo', 'lichenoid', 'psoriasis', 'form', 'dermatitis', 'Malassezia', 'dermatitis', 'otitis', 'externa', 'and', 'primary', 'seborrhoea', '9', 'An', 'American', 'study', 'reviewing', 'over', 'a', 'million', 'cases', 'presented', 'to', '27', 'veterinary', 'teaching', 'hospitals', 'in', 'North', 'America', 'found', 'the', 'English', 'Springer', 'Spaniel', 'to', 'be', 'prediposed', 'to', 'canine', 'hip', 'dysplasia', 'with', '4', '39', 'of', 'dogs', 'having', 'the', 'condition', 'compared', 'to', '3', '52', 'overall', '10', 'A', 'survey', 'of', 'UK', 'breed', 'club', 'members', 'found', 'cancer', 'to', 'be', 'the', 'most', 'common', 'cause', 'of', 'death', 'at', '26', '7', 'of', 'deaths', '11', 'English', 'Springer', 'Spaniels', 'have', 'a', 'predisposition', 'to', 'chronic', 'hepatitis', 'The', 'form', 'of', 'chronic', 'hepatitis', 'in', 'the', 'breed', 'is', 'more', 'severe', 'affects', 'younger', 'dogs', 'and', 'is', 'more', 'likely', 'to', 'affect', 'bitches', '12', 'One', 'study', 'found', 'the', 'English', 'Springer', 'Spaniel', 'to', 'be', '6', '3', 'times', 'more', 'likely', 'to', 'acquire', 'the', 'disease', '13', 'Another', 'study', 'found', 'an', 'odds', 'ratio', 'of', '5', '3', '14', 'The', 'English', 'physician', 'John', 'Caius', 'described', 'the', 'spaniel', 'in', 'his', 'book', 'the', 'Treatise', 'of', 'Englishe', 'Dogs', 'published', 'in', '1576', 'His', 'book', 'was', 'the', 'first', 'work', 'to', 'describe', 'the', 'various', 'British', 'breeds', 'by', 'function', '15', 'By', '1801', 'Sydenham', 'Edwards', 'explained', 'in', 'the', 'Cynographia', 'Britannica', 'that', 'the', 'land', 'spaniel', 'should', 'be', 'split', 'into', 'two', 'kinds', 'the', 'Springing', 'Hawking', 'Spaniel', 'or', 'Starter', 'and', 'the', 'Cocking', 'or', 'Cocker', 'Spaniel', '15', 'At', 'this', 'point', 'both', 'cocker', 'spaniels', 'and', 'springer', 'spaniels', 'were', 'born', 'in', 'the', 'same', 'litters', 'The', 'purpose', 'of', 'the', 'breed', 'was', 'to', 'serve', 'as', 'a', 'hunting', 'dog', 'The', 'smaller', 'cockers', 'were', 'used', 'to', 'hunt', 'woodcock', 'while', 'their', 'larger', 'littermates', 'the', 'springer', 'spaniels', 'would', 'spring', 'or', 'flush', 'the', 'gamebird', 'into', 'the', 'air', 'where', 'a', 'trained', 'falcon', 'or', 'hawk', 'would', 'bring', 'it', 'to', 'the', 'handler', '16', 'Many', 'spaniel', 'breeds', 'were', 'developed', 'during', 'the', '19th', 'century', 'and', 'often', 'named', 'after', 'the', 'counties', 'in', 'which', 'they', 'were', 'developed', 'or', 'after', 'their', 'owners', 'who', 'were', 'usually', 'nobility', 'Two', 'strains', 'of', 'larger', 'land', 'spaniel', 'were', 'predominant', 'and', 'were', 'said', 'to', 'have', 'been', 'of', 'true', 'springer', 'type', 'These', 'were', 'the', 'Norfolk', 'and', 'the', 'Shropshire', 'spaniels', 'and', 'by', 'the', '1850s', 'these', 'were', 'shown', 'under', 'the', 'breed', 'name', 'of', 'Norfolk', 'spaniel', '17', 'In', 'January', '1899', 'the', 'Spaniel', 'Club', 'of', 'England', 'and', 'the', 'Sporting', 'Spaniel', 'Society', 'held', 'their', 'trials', 'together', 'for', 'the', 'first', 'time', 'Three', 'years', 'later', 'in', '1902', 'a', 'combination', 'of', 'the', 'physical', 'standard', 'from', 'the', 'Spaniel', 'Club', 'of', 'England', 'and', 'the', 'ability', 'standard', 'from', 'the', 'Sporting', 'Spaniel', 'Society', 'led', 'to', 'the', 'English', 'Springer', 'Spaniel', 'breed', 'being', 'officially', 'recognized', 'by', 'the', 'English', 'Kennel', 'Club', 'The', 'American', 'Kennel', 'Club', 'followed', 'in', '1910', '17', 'In', '1914', 'the', 'first', 'English', 'Field', 'Champion', 'was', 'crowned', 'FTC', 'Rivington', 'Sam', 'whose', 'dam', 'was', 'a', 'registered', 'cocker', 'spaniel', 'Rivington', 'Riband', 'Sam', 'is', 'considered', 'one', 'of', 'the', 'foundation', 'sires', 'for', 'modern', 'field', 'lines', '17', 'An', 'English', 'Springer', 'Spaniel', 'is', 'foremost', 'a', 'game', 'bird', 'flushing', 'dog', 'There', 'are', 'several', 'skills', 'that', 'breeders', 'train', 'the', 'dog', 'to', 'perform', 'for', 'their', 'occupation', '18', 'The', 'Springer', 'Spaniel', 'is', 'used', 'as', 'a', 'sniffer', 'dog', 'Notable', 'search', 'dogs', 'have', 'included', 'Buster', 'a', 'Dickin', 'Medal', 'recipient', 'Royal', 'Army', 'Veterinary', 'Corps', 'arms', 'and', 'explosives', 'search', 'dog', 'serving', 'with', 'the', 'Duke', 'of', 'Wellington', 's', 'Regiment', 'in', 'Iraq', 'for', 'finding', 'an', 'extremist', 'group', 's', 'hidden', 'arsenal', 'of', 'weapons', 'and', 'explosives', '19', 'Another', 'example', 'is', 'Jake', 'aka', 'Hubble', 'Keck', 'People', 's', 'Dispensary', 'for', 'Sick', 'Animals', 'Gold', 'Medal', 'and', 'Blue', 'Cross', 'Animal', 'Hospital', 'Medal', 'recipient', 'a', 'London', 'Metropolitan', 'Police', 'explosives', 'search', 'dog', 'He', 'was', 'deployed', 'at', 'Tavistock', 'Square', 'Russell', 'Square', 'and', 'King', 's', 'Cross', 'following', 'the', '7', 'July', '2005', 'London', 'bombings', '20', 'The', 'Springer', 'is', 'not', 'limited', 'to', 'detecting', 'explosives', 'Other', 'varied', 'uses', 'for', 'the', 'Springer', 'can', 'include', 'sniffing', 'out', 'bumblebee', 'nests', '21', 'illegal', 'immigrants', '22', 'blood', '23', 'and', 'the', 'superbug', 'C', 'difficile', '24', 'Springers', 'are', 'used', 'for', 'drug', 'detection', 'in', 'the', 'United', 'States', '25', 'United', 'Kingdom', 'Sweden', '26', 'Finland', '27', '28', 'Isle', 'of', 'Man', '29', 'Ireland', '30', 'Canada', 'CBSA', '31', 'and', 'Qatar', '32', 'The', 'Springer', 'Spaniel', 'is', 'also', 'used', 'as', 'a', 'search', 'and', 'rescue', 'dog', 'by', 'mountain', 'rescue', 'and', 'Lowland', 'Rescue', 'teams', 'where', 'their', 'willingness', 'to', 'work', 'and', 'cover', 'rough', 'terrain', 'makes', 'them', 'an', 'excellent', 'choice', 'Awarded', 'the', 'Dickin', 'Medal', 'for', 'conspicuous', 'gallantry', 'or', 'devotion', 'to', 'duty', 'while', 'serving', 'in', 'military', 'conflict', 'Awarded', 'the', 'PDSA', 'Gold', 'Medal', 'for', 'animal', 'bravery', 'Awarded', 'the', 'PDSA', 'Order', 'of', 'Merit']\n"
          ]
        }
      ]
    },
    {
      "cell_type": "code",
      "source": [
        "tokens_nltk = word_tokenize(scraped_text)\n",
        "print(tokens_nltk[:100])\n"
      ],
      "metadata": {
        "colab": {
          "base_uri": "https://localhost:8080/"
        },
        "id": "D2cTBKYZDa10",
        "outputId": "681861f5-278c-4dfa-a941-aff7fc293106"
      },
      "execution_count": 7,
      "outputs": [
        {
          "output_type": "stream",
          "name": "stdout",
          "text": [
            "['The', 'English', 'Springer', 'Spaniel', 'is', 'a', 'breed', 'of', 'gun', 'dog', 'in', 'the', 'Spaniel', 'group', 'traditionally', 'used', 'for', 'flushing', 'and', 'retrieving', 'game', '.', 'They', 'are', 'descended', 'from', 'the', 'Norfolk', 'or', 'Shropshire', 'Spaniels', 'of', 'the', 'mid-19th', 'century', ';', 'the', 'breed', 'has', 'diverged', 'into', 'separate', 'show', 'and', 'working', 'lines', '.', 'It', 'is', 'closely', 'related', 'to', 'the', 'Welsh', 'Springer', 'Spaniel', 'and', 'very', 'closely', 'to', 'the', 'English', 'Cocker', 'Spaniel', ';', 'less', 'than', 'a', 'century', 'ago', ',', 'springers', 'and', 'cockers', 'would', 'come', 'from', 'the', 'same', 'litter', '.', 'The', 'smaller', '``', 'cockers', \"''\", 'were', 'used', 'in', 'woodcock', 'hunting', 'while', 'their', 'larger', 'littermates', 'were', 'used', 'to', 'flush', ',']\n"
          ]
        }
      ]
    },
    {
      "cell_type": "code",
      "source": [
        "from nltk.tokenize import sent_tokenize\n",
        "\n",
        "def sentence_tokenize(text):\n",
        "    sentences = sent_tokenize(text)\n",
        "    return sentences\n",
        "# Example usage:\n",
        "sentences = sentence_tokenize(scraped_text)\n",
        "print(sentences[:20])"
      ],
      "metadata": {
        "colab": {
          "base_uri": "https://localhost:8080/"
        },
        "id": "-nPAXRDIFht0",
        "outputId": "2f274901-71b8-4c7f-8cad-4536eaf4a0ec"
      },
      "execution_count": 8,
      "outputs": [
        {
          "output_type": "stream",
          "name": "stdout",
          "text": [
            "['\\n The English Springer Spaniel is a breed of gun dog in the Spaniel group traditionally used for flushing and retrieving game.', 'They are descended from the Norfolk or Shropshire Spaniels of the mid-19th century; the breed has diverged into separate show and working lines.', 'It is closely related to the Welsh Springer Spaniel and very closely to the English Cocker Spaniel; less than a century ago, springers and cockers would come from the same litter.', 'The smaller \"cockers\" were used in woodcock hunting while their larger littermates were used to flush, or \"spring\", other game birds, hence the name.', 'In 1902, The Kennel Club recognized the English Springer Spaniel as a distinct breed.', '[1] They are used as sniffer dogs on a widespread basis.', 'The English Springer Spaniel is a medium-sized compact dog.', 'Its coat is moderately long with feathering on the legs and tail.', 'It is a well proportioned, balanced dog with a gentle expression.', 'This breed represents perhaps the greatest divergence between working and show lines of any breed of dog.', 'A field-bred dog and a show-bred dog appear to be different breeds but are registered together.', 'The gene pools are almost completely segregated and have been for at least 70 years.', '[2] A field-bred dog would not be competitive in a modern dog show, while a show dog would not have the speed or stamina to succeed in a field trial.', '[3]\\n The English Springer Spaniel field-bred dogs tend to have shorter, coarser coats than show-bred dogs.', 'The ears are less pendulous.', 'Field-bred dogs are wiry and have more of a feral look than those bred for showing.', 'The tail of the field-bred dog may be docked a few inches in comparison to the show dog.', 'Field-bred dogs are selected for their sense of smell, hunting ability, and response to training rather than appearance.', '[3]\\n Show dogs have longer fur and more pendant ears, dewlaps and dangling flews.', 'The tail is docked to a short stub in those countries that permit docking.']\n"
          ]
        }
      ]
    },
    {
      "cell_type": "markdown",
      "source": [
        "## ** Apply Normalization:**"
      ],
      "metadata": {
        "id": "GJ5rDKyhGDaK"
      }
    },
    {
      "cell_type": "code",
      "source": [
        "#Stemming is a process in natural language processing (NLP) where words are reduced to their root form - For example, the words \"connection,\" \"connected,\" \"connecting,\" and \"connects\" all stem to the word \"connect.\"\n",
        "stemmer = PorterStemmer()\n",
        "\n",
        "# Split the text into words\n",
        "words = scraped_text.split()\n",
        "\n",
        "# Applying the stemmer to each word\n",
        "stemmed_words = [stemmer.stem(word) for word in words]\n",
        "\n",
        "# Print the results\n",
        "print(stemmed_words)"
      ],
      "metadata": {
        "id": "C0lJGyfIGd3q",
        "colab": {
          "base_uri": "https://localhost:8080/"
        },
        "outputId": "f89ba917-a0b3-49e0-c2b2-8953cc29e3e4"
      },
      "execution_count": 9,
      "outputs": [
        {
          "output_type": "stream",
          "name": "stdout",
          "text": [
            "['the', 'english', 'springer', 'spaniel', 'is', 'a', 'breed', 'of', 'gun', 'dog', 'in', 'the', 'spaniel', 'group', 'tradit', 'use', 'for', 'flush', 'and', 'retriev', 'game.', 'they', 'are', 'descend', 'from', 'the', 'norfolk', 'or', 'shropshir', 'spaniel', 'of', 'the', 'mid-19th', 'century;', 'the', 'breed', 'ha', 'diverg', 'into', 'separ', 'show', 'and', 'work', 'lines.', 'it', 'is', 'close', 'relat', 'to', 'the', 'welsh', 'springer', 'spaniel', 'and', 'veri', 'close', 'to', 'the', 'english', 'cocker', 'spaniel;', 'less', 'than', 'a', 'centuri', 'ago,', 'springer', 'and', 'cocker', 'would', 'come', 'from', 'the', 'same', 'litter.', 'the', 'smaller', '\"cockers\"', 'were', 'use', 'in', 'woodcock', 'hunt', 'while', 'their', 'larger', 'litterm', 'were', 'use', 'to', 'flush,', 'or', '\"spring\",', 'other', 'game', 'birds,', 'henc', 'the', 'name.', 'in', '1902,', 'the', 'kennel', 'club', 'recogn', 'the', 'english', 'springer', 'spaniel', 'as', 'a', 'distinct', 'breed.[1]', 'they', 'are', 'use', 'as', 'sniffer', 'dog', 'on', 'a', 'widespread', 'basis.', 'the', 'english', 'springer', 'spaniel', 'is', 'a', 'medium-s', 'compact', 'dog.', 'it', 'coat', 'is', 'moder', 'long', 'with', 'feather', 'on', 'the', 'leg', 'and', 'tail.', 'it', 'is', 'a', 'well', 'proportioned,', 'balanc', 'dog', 'with', 'a', 'gentl', 'expression.', 'thi', 'breed', 'repres', 'perhap', 'the', 'greatest', 'diverg', 'between', 'work', 'and', 'show', 'line', 'of', 'ani', 'breed', 'of', 'dog.', 'a', 'field-br', 'dog', 'and', 'a', 'show-br', 'dog', 'appear', 'to', 'be', 'differ', 'breed', 'but', 'are', 'regist', 'together.', 'the', 'gene', 'pool', 'are', 'almost', 'complet', 'segreg', 'and', 'have', 'been', 'for', 'at', 'least', '70', 'years.[2]', 'a', 'field-br', 'dog', 'would', 'not', 'be', 'competit', 'in', 'a', 'modern', 'dog', 'show,', 'while', 'a', 'show', 'dog', 'would', 'not', 'have', 'the', 'speed', 'or', 'stamina', 'to', 'succeed', 'in', 'a', 'field', 'trial.[3]', 'the', 'english', 'springer', 'spaniel', 'field-br', 'dog', 'tend', 'to', 'have', 'shorter,', 'coarser', 'coat', 'than', 'show-br', 'dogs.', 'the', 'ear', 'are', 'less', 'pendulous.', 'field-br', 'dog', 'are', 'wiri', 'and', 'have', 'more', 'of', 'a', 'feral', 'look', 'than', 'those', 'bred', 'for', 'showing.', 'the', 'tail', 'of', 'the', 'field-br', 'dog', 'may', 'be', 'dock', 'a', 'few', 'inch', 'in', 'comparison', 'to', 'the', 'show', 'dog.', 'field-br', 'dog', 'are', 'select', 'for', 'their', 'sens', 'of', 'smell,', 'hunt', 'ability,', 'and', 'respons', 'to', 'train', 'rather', 'than', 'appearance.[3]', 'show', 'dog', 'have', 'longer', 'fur', 'and', 'more', 'pendant', 'ears,', 'dewlap', 'and', 'dangl', 'flews.', 'the', 'tail', 'is', 'dock', 'to', 'a', 'short', 'stub', 'in', 'those', 'countri', 'that', 'permit', 'docking.', 'they', 'are', 'gener', 'more', 'thickli', 'bone', 'and', 'heavier', 'than', 'field-br', 'springers.[3]', 'the', 'english', 'springer', 'spaniel', 'is', 'similar', 'to', 'the', 'english', 'cocker', 'spaniel', 'and', 'at', 'first', 'glance,', 'the', 'onli', 'major', 'differ', 'is', 'the', \"latter'\", 'smaller', 'size.', 'howev', 'english', 'springer', 'also', 'tend', 'to', 'have', 'shorter,', 'and', 'higher-set', 'ear', 'than', 'english', 'cockers.', 'springer', 'also', 'tend', 'to', 'have', 'a', 'longer', 'muzzle;', 'their', 'eye', 'are', 'not', 'as', 'prominent,', 'and', 'the', 'coat', 'is', 'less', 'abundant.[4]', 'the', 'major', 'differ', 'between', 'the', 'welsh', 'springer', 'and', 'the', 'english', 'springer', 'are', 'that', 'the', 'welsh', 'have', 'more', 'limit', 'color', 'and', 'tend', 'to', 'be', 'slightli', 'smaller.', 'field-br', 'dog', 'tend', 'to', 'have', 'shorter,', 'coarser', 'coat', 'than', 'the', 'longer', 'fur', 'show-br', 'dogs.', 'they', 'normal', 'onli', 'shed', 'in', 'summer', 'and', 'spring', 'month', 'but', 'shed', 'occasion', 'in', 'the', 'autumn.[2]', 'the', 'coat', 'come', 'in', 'black', 'or', 'liver', '(dark', 'brown)', 'with', 'white', 'mark', 'or', 'predominantli', 'white', 'with', 'black', 'or', 'liver', 'markings;', 'tricolour:', 'black', 'and', 'white', 'or', 'liver', 'and', 'white', 'with', 'tan', 'markings,', 'usual', 'found', 'on', 'eyebrows,', 'cheeks,', 'insid', 'of', 'ear', 'and', 'under', 'the', 'tail.', 'ani', 'white', 'portion', 'of', 'the', 'coat', 'may', 'be', 'fleck', 'with', 'ticking.[cit', 'needed]', 'male', 'in', 'the', 'show', 'dog', 'line', 'are', 'typic', 'approxim', '19', 'to', '21', 'inch', '(48', 'to', '53', 'cm)', 'at', 'the', 'wither', 'and', 'weigh', '40', 'to', '60', 'lb', '(18', 'to', '27', 'kg).', 'accord', 'to', 'the', 'uk', 'breed', 'standard,', 'the', 'english', 'springer', 'spaniel', 'should', 'be', '20', 'inch', '(51', 'cm)', 'at', 'the', 'withers.', 'the', 'femal', 'should', 'be', '18', 'to', '20', 'inch', '(46', 'to', '51', 'cm)', 'and', 'usual', '35', 'to', '55', 'lb', '(16', 'to', '25', 'kg).', 'work', 'type', 'can', 'be', 'lighter', 'in', 'weight', 'and', 'finer', 'in', 'bone.[5]', 'the', 'english', 'springer', 'spaniel', 'rank', '13th', 'in', 'stanley', \"coren'\", 'the', 'intellig', 'of', 'dogs[cit', 'needed]', 'a', '2022', 'uk', 'studi', 'found', 'a', 'life', 'expect', 'of', '11.92', 'year', 'for', 'the', 'breed,', 'abov', 'the', 'averag', 'of', '11.23', 'years.[6]', 'a', '2024', 'uk', 'studi', 'found', 'a', 'life', 'expect', 'of', '13.5', 'year', 'for', 'the', 'breed', 'compar', 'to', 'an', 'averag', 'of', '12.7', 'for', 'purebre', 'and', '12', 'for', 'crossbreeds.[7]', 'a', '2005', 'swedish', 'studi', 'found', '29%', 'of', 'spring', 'spaniel', 'die', 'by', 'the', 'age', 'of', '10,', 'less', 'than', 'the', 'overal', 'rate', 'of', '35%', 'of', 'dog', 'die', 'by', 'the', 'age', 'of', '10.[8]', 'skin', 'condit', 'the', 'breed', 'is', 'predispos', 'to', 'include:', 'acral', 'mutil', 'syndrome,', 'intertrigo,', 'lichenoid', 'psoriasis–form', 'dermatitis,', 'malassezia', 'dermatitis,', 'otiti', 'externa,', 'and', 'primari', 'seborrhoea.[9]', 'an', 'american', 'studi', 'review', 'over', 'a', 'million', 'case', 'present', 'to', '27', 'veterinari', 'teach', 'hospit', 'in', 'north', 'america', 'found', 'the', 'english', 'springer', 'spaniel', 'to', 'be', 'predipos', 'to', 'canin', 'hip', 'dysplasia,', 'with', '4.39%', 'of', 'dog', 'have', 'the', 'condit', 'compar', 'to', '3.52%', 'overall.[10]', 'a', 'survey', 'of', 'uk', 'breed', 'club', 'member', 'found', 'cancer', 'to', 'be', 'the', 'most', 'common', 'caus', 'of', 'death', 'at', '26.7%', 'of', 'deaths.[11]', 'english', 'springer', 'spaniel', 'have', 'a', 'predisposit', 'to', 'chronic', 'hepatitis.', 'the', 'form', 'of', 'chronic', 'hepat', 'in', 'the', 'breed', 'is', 'more', 'severe,', 'affect', 'younger', 'dogs,', 'and', 'is', 'more', 'like', 'to', 'affect', 'bitches.[12]', 'one', 'studi', 'found', 'the', 'english', 'springer', 'spaniel', 'to', 'be', '6.3', 'time', 'more', 'like', 'to', 'acquir', 'the', 'disease.[13]', 'anoth', 'studi', 'found', 'an', 'odd', 'ratio', 'of', '5.3.[14]', 'the', 'english', 'physician', 'john', 'caiu', 'describ', 'the', 'spaniel', 'in', 'hi', 'book', 'the', 'treatis', 'of', 'english', 'dog', 'publish', 'in', '1576.', 'hi', 'book', 'wa', 'the', 'first', 'work', 'to', 'describ', 'the', 'variou', 'british', 'breed', 'by', 'function.[15]', 'by', '1801,', 'sydenham', 'edward', 'explain', 'in', 'the', 'cynographia', 'britannica', 'that', 'the', 'land', 'spaniel', 'should', 'be', 'split', 'into', 'two', 'kinds,', 'the', 'springing,', 'hawk', 'spaniel,', 'or', 'starter;', 'and', 'the', 'cock', 'or', 'cocker', 'spaniel.[15]', 'at', 'thi', 'point,', 'both', 'cocker', 'spaniel', 'and', 'springer', 'spaniel', 'were', 'born', 'in', 'the', 'same', 'litters.', 'the', 'purpos', 'of', 'the', 'breed', 'wa', 'to', 'serv', 'as', 'a', 'hunt', 'dog.', 'the', 'smaller', 'cocker', 'were', 'use', 'to', 'hunt', 'woodcock,', 'while', 'their', 'larger', 'littermates,', 'the', 'springer', 'spaniels,', 'would', '\"spring\"—or', 'flush—th', 'gamebird', 'into', 'the', 'air', 'where', 'a', 'train', 'falcon', 'or', 'hawk', 'would', 'bring', 'it', 'to', 'the', 'handler.[16]', 'mani', 'spaniel', 'breed', 'were', 'develop', 'dure', 'the', '19th', 'century,', 'and', 'often', 'name', 'after', 'the', 'counti', 'in', 'which', 'they', 'were', 'developed,', 'or', 'after', 'their', 'owners,', 'who', 'were', 'usual', 'nobility.', 'two', 'strain', 'of', 'larger', 'land', 'spaniel', 'were', 'predomin', 'and', 'were', 'said', 'to', 'have', 'been', 'of', '\"true', 'springer', 'type.\"', 'these', 'were', 'the', 'norfolk', 'and', 'the', 'shropshir', 'spaniels,', 'and', 'by', 'the', '1850s,', 'these', 'were', 'shown', 'under', 'the', 'breed', 'name', 'of', 'norfolk', 'spaniel.[17]', 'in', 'januari', '1899,', 'the', 'spaniel', 'club', 'of', 'england', 'and', 'the', 'sport', 'spaniel', 'societi', 'held', 'their', 'trial', 'togeth', 'for', 'the', 'first', 'time.', 'three', 'year', 'later,', 'in', '1902,', 'a', 'combin', 'of', 'the', 'physic', 'standard', 'from', 'the', 'spaniel', 'club', 'of', 'england', 'and', 'the', 'abil', 'standard', 'from', 'the', 'sport', 'spaniel', 'societi', 'led', 'to', 'the', 'english', 'springer', 'spaniel', 'breed', 'be', 'offici', 'recogn', 'by', 'the', 'english', 'kennel', 'club.', 'the', 'american', 'kennel', 'club', 'follow', 'in', '1910.[17]', 'in', '1914,', 'the', 'first', 'english', 'field', 'champion', 'wa', 'crowned,', 'ftc', 'rivington', 'sam,', 'whose', 'dam', 'wa', 'a', 'regist', 'cocker', 'spaniel,', 'rivington', 'riband.', 'sam', 'is', 'consid', 'one', 'of', 'the', 'foundat', 'sire', 'for', 'modern', 'field', 'lines.[17]', 'an', 'english', 'springer', 'spaniel', 'is', 'foremost', 'a', 'game', 'bird', 'flush', 'dog.', 'there', 'are', 'sever', 'skill', 'that', 'breeder', 'train', 'the', 'dog', 'to', 'perform', 'for', 'their', 'occupation.[18]', 'the', 'springer', 'spaniel', 'is', 'use', 'as', 'a', 'sniffer', 'dog.', 'notabl', 'search', 'dog', 'have', 'includ', 'buster,', 'a', 'dickin', 'medal', 'recipient,', 'royal', 'armi', 'veterinari', 'corp', 'arm', 'and', 'explos', 'search', 'dog', 'serv', 'with', 'the', 'duke', 'of', \"wellington'\", 'regiment', 'in', 'iraq,', 'for', 'find', 'an', 'extremist', \"group'\", 'hidden', 'arsen', 'of', 'weapon', 'and', 'explosives.[19]', 'anoth', 'exampl', 'is', 'jake,', 'aka', 'hubbl', 'keck', \"people'\", 'dispensari', 'for', 'sick', 'anim', 'gold', 'medal', 'and', 'blue', 'cross', 'anim', 'hospit', 'medal', 'recipient,', 'a', 'london', 'metropolitan', 'polic', 'explos', 'search', 'dog.', 'he', 'wa', 'deploy', 'at', 'tavistock', 'square,', 'russel', 'squar', 'and', \"king'\", 'cross', 'follow', 'the', '7', 'juli', '2005', 'london', 'bombings.[20]', 'the', 'springer', 'is', 'not', 'limit', 'to', 'detect', 'explosives.', 'other', 'vari', 'use', 'for', 'the', 'springer', 'can', 'includ', 'snif', 'out', 'bumblebe', 'nests,[21]', 'illeg', 'immigrants,[22]', 'blood[23]', 'and', 'the', 'superbug', 'c.', 'difficile.[24]', 'springer', 'are', 'use', 'for', 'drug', 'detect', 'in', 'the', 'unit', 'states,[25]', 'unit', 'kingdom,', 'sweden,[26]', 'finland,[27][28]', 'isl', 'of', 'man,[29]', 'ireland,[30]', 'canada', 'cbsa[31]', 'and', 'qatar.[32]', 'the', 'springer', 'spaniel', 'is', 'also', 'use', 'as', 'a', 'search', 'and', 'rescu', 'dog', 'by', 'mountain', 'rescu', 'and', 'lowland', 'rescu', 'teams,', 'where', 'their', 'willing', 'to', 'work', 'and', 'cover', 'rough', 'terrain', 'make', 'them', 'an', 'excel', 'choice.', 'award', 'the', 'dickin', 'medal', 'for', 'conspicu', 'gallantri', 'or', 'devot', 'to', 'duti', 'while', 'serv', 'in', 'militari', 'conflict:', 'award', 'the', 'pdsa', 'gold', 'medal', 'for', 'anim', 'bravery:', 'award', 'the', 'pdsa', 'order', 'of', 'merit']\n"
          ]
        }
      ]
    },
    {
      "cell_type": "code",
      "source": [
        "# Create an instance of WordNetLemmatizer\n",
        "lemmatizer = WordNetLemmatizer()\n",
        "\n",
        "# Helper function to convert nltk tag to wordnet tag\n",
        "def nltk_tag_to_wordnet_tag(nltk_tag):\n",
        "    if nltk_tag.startswith('J'):\n",
        "        return wordnet.ADJ\n",
        "    elif nltk_tag.startswith('V'):\n",
        "        return wordnet.VERB\n",
        "    elif nltk_tag.startswith('N'):\n",
        "        return wordnet.NOUN\n",
        "    elif nltk_tag.startswith('R'):\n",
        "        return wordnet.ADV\n",
        "    else:\n",
        "        return None\n",
        "\n",
        "# Tokenize the text and get parts of speech tags\n",
        "tokens = word_tokenize(scraped_text)\n",
        "tagged_tokens = pos_tag(tokens)\n",
        "\n",
        "# Lemmatize each token with its correct part of speech\n",
        "lemmatized_text = [\n",
        "    lemmatizer.lemmatize(token, nltk_tag_to_wordnet_tag(tag)) if nltk_tag_to_wordnet_tag(tag) else token\n",
        "    for token, tag in tagged_tokens\n",
        "]\n",
        "\n",
        "# Print the lemmatized text\n",
        "print(\" \".join(lemmatized_text))"
      ],
      "metadata": {
        "colab": {
          "base_uri": "https://localhost:8080/"
        },
        "id": "qr-F0-qo4Ptk",
        "outputId": "1b968e98-93e1-4455-b0ff-1a5d9d356434"
      },
      "execution_count": 10,
      "outputs": [
        {
          "output_type": "stream",
          "name": "stdout",
          "text": [
            "The English Springer Spaniel be a breed of gun dog in the Spaniel group traditionally use for flush and retrieve game . They be descend from the Norfolk or Shropshire Spaniels of the mid-19th century ; the breed have diverge into separate show and work line . It be closely relate to the Welsh Springer Spaniel and very closely to the English Cocker Spaniel ; less than a century ago , springer and cocker would come from the same litter . The small `` cocker '' be use in woodcock hunt while their large littermates be use to flush , or `` spring '' , other game bird , hence the name . In 1902 , The Kennel Club recognize the English Springer Spaniel as a distinct breed . [ 1 ] They be use as sniffer dog on a widespread basis . The English Springer Spaniel be a medium-sized compact dog . Its coat be moderately long with feather on the leg and tail . It be a well proportion , balance dog with a gentle expression . This breed represent perhaps the great divergence between work and show line of any breed of dog . A field-bred dog and a show-bred dog appear to be different breed but be register together . The gene pool be almost completely segregate and have be for at least 70 year . [ 2 ] A field-bred dog would not be competitive in a modern dog show , while a show dog would not have the speed or stamen to succeed in a field trial . [ 3 ] The English Springer Spaniel field-bred dog tend to have short , coarse coat than show-bred dog . The ear be less pendulous . Field-bred dog be wiry and have more of a feral look than those breed for show . The tail of the field-bred dog may be dock a few inch in comparison to the show dog . Field-bred dog be select for their sense of smell , hunt ability , and response to train rather than appearance . [ 3 ] Show dog have longer fur and more pendant ear , dewlap and dangle flews . The tail be dock to a short stub in those country that permit dock . They be generally more thickly bone and heavy than field-bred springer . [ 3 ] The English Springer Spaniel be similar to the English Cocker Spaniel and at first glance , the only major difference be the latter 's small size . However English Springers also tend to have short , and higher-set ear than English Cockers . Springers also tend to have a long muzzle ; their eye be not as prominent , and the coat be less abundant . [ 4 ] The major difference between the Welsh Springer and the English Springer be that the Welsh have more limited color and tend to be slightly small . Field-bred dog tend to have short , coarse coat than the long furred show-bred dog . They normally only shed in summer and spring month but shed occasionally in the autumn . [ 2 ] The coat come in black or liver ( dark brown ) with white marking or predominantly white with black or liver marking ; Tricolour : black and white or liver and white with tan marking , usually find on eyebrow , cheek , inside of ear and under the tail . Any white portion of the coat may be fleck with tick . [ citation need ] Males in the show dog line be typically approximately 19 to 21 inch ( 48 to 53 cm ) at the withers and weigh 40 to 60 lb ( 18 to 27 kg ) . According to the UK Breed Standard , the English Springer Spaniel should be 20 inch ( 51 cm ) at the withers . The female should be 18 to 20 inch ( 46 to 51 cm ) and usually 35 to 55 lb ( 16 to 25 kg ) . Working type can be light in weight and finer in bone . [ 5 ] The English Springer Spaniel rank 13th in Stanley Coren 's The Intelligence of Dogs [ citation need ] A 2022 UK study find a life expectancy of 11.92 year for the breed , above the average of 11.23 year . [ 6 ] A 2024 UK study find a life expectancy of 13.5 year for the breed compare to an average of 12.7 for purebreeds and 12 for crossbreed . [ 7 ] A 2005 Swedish study find 29 % of Spring Spaniels die by the age of 10 , less than the overall rate of 35 % of dog die by the age of 10 . [ 8 ] Skin condition the breed be predispose to include : acral mutilation syndrome , intertrigo , lichenoid psoriasis–form dermatitis , Malassezia dermatitis , otitis externa , and primary seborrhoea . [ 9 ] An American study review over a million case present to 27 veterinary teaching hospital in North America find the English Springer Spaniel to be prediposed to canine hip dysplasia , with 4.39 % of dog have the condition compare to 3.52 % overall . [ 10 ] A survey of UK breed club member find cancer to be the most common cause of death at 26.7 % of death . [ 11 ] English Springer Spaniels have a predisposition to chronic hepatitis . The form of chronic hepatitis in the breed be more severe , affect young dog , and be more likely to affect bitch . [ 12 ] One study find the English Springer Spaniel to be 6.3 time more likely to acquire the disease . [ 13 ] Another study find an odds ratio of 5.3 . [ 14 ] The English physician John Caius describe the spaniel in his book the Treatise of Englishe Dogs publish in 1576 . His book be the first work to describe the various British breed by function . [ 15 ] By 1801 , Sydenham Edwards explain in the Cynographia Britannica that the land spaniel should be split into two kind , the Springing , Hawking Spaniel , or Starter ; and the Cocking or Cocker Spaniel . [ 15 ] At this point , both cocker spaniel and springer spaniel be bear in the same litter . The purpose of the breed be to serve as a hunting dog . The small cocker be use to hunt woodcock , while their large littermates , the springer spaniel , would `` spring '' —or flush—the gamebird into the air where a trained falcon or hawk would bring it to the handler . [ 16 ] Many spaniel breed be develop during the 19th century , and often name after the county in which they be develop , or after their owner , who be usually nobility . Two strain of large land spaniel be predominant and be say to have be of `` true springer type . '' These be the Norfolk and the Shropshire spaniel , and by the 1850s , these be show under the breed name of Norfolk spaniel . [ 17 ] In January 1899 , the Spaniel Club of England and the Sporting Spaniel Society hold their trial together for the first time . Three year later , in 1902 , a combination of the physical standard from the Spaniel Club of England and the ability standard from the Sporting Spaniel Society lead to the English Springer Spaniel breed be officially recognize by the English Kennel Club . The American Kennel Club follow in 1910 . [ 17 ] In 1914 , the first English Field Champion be crown , FTC Rivington Sam , whose dam be a registered cocker spaniel , Rivington Riband . Sam be consider one of the foundation sire for modern field line . [ 17 ] An English Springer Spaniel be foremost a game bird flush dog . There be several skill that breeder train the dog to perform for their occupation . [ 18 ] The Springer Spaniel be use as a sniffer dog . Notable search dog have include Buster , a Dickin Medal recipient , Royal Army Veterinary Corps arm and explosive search dog serve with the Duke of Wellington 's Regiment in Iraq , for find an extremist group 's hidden arsenal of weapon and explosive . [ 19 ] Another example be Jake , aka Hubble Keck People 's Dispensary for Sick Animals Gold Medal and Blue Cross Animal Hospital Medal recipient , a London Metropolitan Police explosives search dog . He be deploy at Tavistock Square , Russell Square and King 's Cross follow the 7 July 2005 London bombing . [ 20 ] The Springer be not limit to detect explosive . Other varied us for the Springer can include sniff out bumblebee nest , [ 21 ] illegal immigrant , [ 22 ] blood [ 23 ] and the superbug C . difficile . [ 24 ] Springers be use for drug detection in the United States , [ 25 ] United Kingdom , Sweden , [ 26 ] Finland , [ 27 ] [ 28 ] Isle of Man , [ 29 ] Ireland , [ 30 ] Canada CBSA [ 31 ] and Qatar . [ 32 ] The Springer Spaniel be also use as a search and rescue dog by mountain rescue and Lowland Rescue team , where their willingness to work and cover rough terrain make them an excellent choice . Awarded the Dickin Medal for conspicuous gallantry or devotion to duty while serve in military conflict : Awarded the PDSA Gold Medal for animal bravery : Awarded the PDSA Order of Merit\n"
          ]
        }
      ]
    },
    {
      "cell_type": "markdown",
      "source": [
        " **Remove Stop Words**"
      ],
      "metadata": {
        "id": "-bNZ6JbO_obx"
      }
    },
    {
      "cell_type": "code",
      "source": [
        "stop_words = set(stopwords.words('english'))\n",
        "\n",
        "# Tokenize the text\n",
        "words = word_tokenize(scraped_text)\n",
        "\n",
        "# Filter out the stop words\n",
        "filtered_words = [word for word in words if word.lower() not in stop_words]\n",
        "\n",
        "# Print the filtered text\n",
        "print(\" \".join(filtered_words))"
      ],
      "metadata": {
        "colab": {
          "base_uri": "https://localhost:8080/"
        },
        "id": "7RBFp93U_vqj",
        "outputId": "31a0d697-73eb-4e99-af80-99ae8dc8c5de"
      },
      "execution_count": 11,
      "outputs": [
        {
          "output_type": "stream",
          "name": "stdout",
          "text": [
            "English Springer Spaniel breed gun dog Spaniel group traditionally used flushing retrieving game . descended Norfolk Shropshire Spaniels mid-19th century ; breed diverged separate show working lines . closely related Welsh Springer Spaniel closely English Cocker Spaniel ; less century ago , springers cockers would come litter . smaller `` cockers '' used woodcock hunting larger littermates used flush , `` spring '' , game birds , hence name . 1902 , Kennel Club recognized English Springer Spaniel distinct breed . [ 1 ] used sniffer dogs widespread basis . English Springer Spaniel medium-sized compact dog . coat moderately long feathering legs tail . well proportioned , balanced dog gentle expression . breed represents perhaps greatest divergence working show lines breed dog . field-bred dog show-bred dog appear different breeds registered together . gene pools almost completely segregated least 70 years . [ 2 ] field-bred dog would competitive modern dog show , show dog would speed stamina succeed field trial . [ 3 ] English Springer Spaniel field-bred dogs tend shorter , coarser coats show-bred dogs . ears less pendulous . Field-bred dogs wiry feral look bred showing . tail field-bred dog may docked inches comparison show dog . Field-bred dogs selected sense smell , hunting ability , response training rather appearance . [ 3 ] Show dogs longer fur pendant ears , dewlaps dangling flews . tail docked short stub countries permit docking . generally thickly boned heavier field-bred springers . [ 3 ] English Springer Spaniel similar English Cocker Spaniel first glance , major difference latter 's smaller size . However English Springers also tend shorter , higher-set ears English Cockers . Springers also tend longer muzzle ; eyes prominent , coat less abundant . [ 4 ] major differences Welsh Springer English Springer Welsh limited colors tend slightly smaller . Field-bred dogs tend shorter , coarser coats longer furred show-bred dogs . normally shed summer spring months shed occasionally autumn . [ 2 ] coat comes black liver ( dark brown ) white markings predominantly white black liver markings ; Tricolour : black white liver white tan markings , usually found eyebrows , cheeks , inside ears tail . white portion coat may flecked ticking . [ citation needed ] Males show dog line typically approximately 19 21 inches ( 48 53 cm ) withers weigh 40 60 lb ( 18 27 kg ) . According UK Breed Standard , English Springer Spaniel 20 inches ( 51 cm ) withers . females 18 20 inches ( 46 51 cm ) usually 35 55 lb ( 16 25 kg ) . Working types lighter weight finer bone . [ 5 ] English Springer Spaniel ranks 13th Stanley Coren 's Intelligence Dogs [ citation needed ] 2022 UK study found life expectancy 11.92 years breed , average 11.23 years . [ 6 ] 2024 UK study found life expectancy 13.5 years breed compared average 12.7 purebreeds 12 crossbreeds . [ 7 ] 2005 Swedish study found 29 % Spring Spaniels died age 10 , less overall rate 35 % dogs dying age 10 . [ 8 ] Skin conditions breed predisposed include : acral mutilation syndrome , intertrigo , lichenoid psoriasis–form dermatitis , Malassezia dermatitis , otitis externa , primary seborrhoea . [ 9 ] American study reviewing million cases presented 27 veterinary teaching hospitals North America found English Springer Spaniel prediposed canine hip dysplasia , 4.39 % dogs condition compared 3.52 % overall . [ 10 ] survey UK breed club members found cancer common cause death 26.7 % deaths . [ 11 ] English Springer Spaniels predisposition chronic hepatitis . form chronic hepatitis breed severe , affects younger dogs , likely affect bitches . [ 12 ] One study found English Springer Spaniel 6.3 times likely acquire disease . [ 13 ] Another study found odds ratio 5.3 . [ 14 ] English physician John Caius described spaniel book Treatise Englishe Dogs published 1576 . book first work describe various British breeds function . [ 15 ] 1801 , Sydenham Edwards explained Cynographia Britannica land spaniel split two kinds , Springing , Hawking Spaniel , Starter ; Cocking Cocker Spaniel . [ 15 ] point , cocker spaniels springer spaniels born litters . purpose breed serve hunting dog . smaller cockers used hunt woodcock , larger littermates , springer spaniels , would `` spring '' —or flush—the gamebird air trained falcon hawk would bring handler . [ 16 ] Many spaniel breeds developed 19th century , often named counties developed , owners , usually nobility . Two strains larger land spaniel predominant said `` true springer type . '' Norfolk Shropshire spaniels , 1850s , shown breed name Norfolk spaniel . [ 17 ] January 1899 , Spaniel Club England Sporting Spaniel Society held trials together first time . Three years later , 1902 , combination physical standard Spaniel Club England ability standard Sporting Spaniel Society led English Springer Spaniel breed officially recognized English Kennel Club . American Kennel Club followed 1910 . [ 17 ] 1914 , first English Field Champion crowned , FTC Rivington Sam , whose dam registered cocker spaniel , Rivington Riband . Sam considered one foundation sires modern field lines . [ 17 ] English Springer Spaniel foremost game bird flushing dog . several skills breeders train dog perform occupation . [ 18 ] Springer Spaniel used sniffer dog . Notable search dogs included Buster , Dickin Medal recipient , Royal Army Veterinary Corps arms explosives search dog serving Duke Wellington 's Regiment Iraq , finding extremist group 's hidden arsenal weapons explosives . [ 19 ] Another example Jake , aka Hubble Keck People 's Dispensary Sick Animals Gold Medal Blue Cross Animal Hospital Medal recipient , London Metropolitan Police explosives search dog . deployed Tavistock Square , Russell Square King 's Cross following 7 July 2005 London bombings . [ 20 ] Springer limited detecting explosives . varied uses Springer include sniffing bumblebee nests , [ 21 ] illegal immigrants , [ 22 ] blood [ 23 ] superbug C . difficile . [ 24 ] Springers used drug detection United States , [ 25 ] United Kingdom , Sweden , [ 26 ] Finland , [ 27 ] [ 28 ] Isle Man , [ 29 ] Ireland , [ 30 ] Canada CBSA [ 31 ] Qatar . [ 32 ] Springer Spaniel also used search rescue dog mountain rescue Lowland Rescue teams , willingness work cover rough terrain makes excellent choice . Awarded Dickin Medal conspicuous gallantry devotion duty serving military conflict : Awarded PDSA Gold Medal animal bravery : Awarded PDSA Order Merit\n"
          ]
        }
      ]
    },
    {
      "cell_type": "markdown",
      "source": [
        "**BOW**"
      ],
      "metadata": {
        "id": "xk_c0jTrE3DO"
      }
    },
    {
      "cell_type": "code",
      "source": [
        "vectorizer = CountVectorizer()\n",
        "vectorizer.fit([scraped_text])\n",
        "vector = vectorizer.transform([scraped_text])\n",
        "print(\"Vocabulary: \", vectorizer.vocabulary_)\n",
        "#print(\"Vector: \", vector.toarray())"
      ],
      "metadata": {
        "colab": {
          "base_uri": "https://localhost:8080/"
        },
        "id": "HtiuChfpE5f7",
        "outputId": "0786b83e-ff14-4506-f707-04739e3dda63"
      },
      "execution_count": 12,
      "outputs": [
        {
          "output_type": "stream",
          "name": "stdout",
          "text": [
            "Vocabulary:  {'the': 487, 'english': 199, 'springer': 458, 'spaniel': 452, 'is': 281, 'breed': 102, 'of': 357, 'gun': 247, 'dog': 188, 'in': 271, 'group': 246, 'traditionally': 502, 'used': 518, 'for': 227, 'flushing': 224, 'and': 65, 'retrieving': 410, 'game': 238, 'they': 492, 'are': 73, 'descended': 167, 'from': 232, 'norfolk': 349, 'or': 363, 'shropshire': 438, 'spaniels': 453, 'mid': 333, '19th': 18, 'century': 121, 'has': 249, 'diverged': 184, 'into': 278, 'separate': 425, 'show': 435, 'working': 546, 'lines': 310, 'it': 283, 'closely': 127, 'related': 406, 'to': 500, 'welsh': 531, 'very': 523, 'cocker': 133, 'less': 303, 'than': 485, 'ago': 57, 'springers': 459, 'cockers': 134, 'would': 547, 'come': 138, 'same': 419, 'litter': 311, 'smaller': 447, 'were': 532, 'woodcock': 544, 'hunting': 268, 'while': 535, 'their': 488, 'larger': 296, 'littermates': 312, 'flush': 223, 'spring': 457, 'other': 365, 'birds': 89, 'hence': 257, 'name': 344, '1902': 15, 'kennel': 290, 'club': 128, 'recognized': 403, 'as': 77, 'distinct': 183, 'sniffer': 449, 'dogs': 189, 'on': 360, 'widespread': 539, 'basis': 83, 'medium': 329, 'sized': 443, 'compact': 141, 'its': 284, 'coat': 131, 'moderately': 336, 'long': 316, 'with': 542, 'feathering': 212, 'legs': 302, 'tail': 478, 'well': 529, 'proportioned': 392, 'balanced': 82, 'gentle': 242, 'expression': 206, 'this': 494, 'represents': 407, 'perhaps': 376, 'greatest': 245, 'divergence': 185, 'between': 87, 'any': 69, 'field': 216, 'bred': 101, 'appear': 70, 'be': 84, 'different': 179, 'breeds': 104, 'but': 111, 'registered': 405, 'together': 501, 'gene': 240, 'pools': 382, 'almost': 60, 'completely': 145, 'segregated': 422, 'have': 250, 'been': 85, 'at': 78, 'least': 300, '70': 45, 'years': 548, 'not': 352, 'competitive': 144, 'modern': 337, 'speed': 454, 'stamina': 462, 'succeed': 470, 'trial': 507, 'tend': 483, 'shorter': 433, 'coarser': 130, 'coats': 132, 'ears': 196, 'pendulous': 373, 'wiry': 541, 'more': 339, 'feral': 214, 'look': 318, 'those': 495, 'showing': 436, 'may': 327, 'docked': 186, 'few': 215, 'inches': 272, 'comparison': 143, 'selected': 423, 'sense': 424, 'smell': 448, 'ability': 47, 'response': 409, 'training': 505, 'rather': 400, 'appearance': 71, 'longer': 317, 'fur': 235, 'pendant': 372, 'dewlaps': 174, 'dangling': 161, 'flews': 222, 'short': 432, 'stub': 468, 'countries': 154, 'that': 486, 'permit': 377, 'docking': 187, 'generally': 241, 'thickly': 493, 'boned': 96, 'heavier': 255, 'similar': 440, 'first': 220, 'glance': 243, 'only': 362, 'major': 320, 'difference': 177, 'latter': 298, 'size': 442, 'however': 265, 'also': 61, 'higher': 260, 'set': 428, 'muzzle': 343, 'eyes': 210, 'prominent': 391, 'abundant': 49, 'differences': 178, 'limited': 308, 'colors': 136, 'slightly': 446, 'furred': 236, 'normally': 350, 'shed': 431, 'summer': 471, 'months': 338, 'occasionally': 354, 'autumn': 79, 'comes': 139, 'black': 91, 'liver': 314, 'dark': 162, 'brown': 108, 'white': 536, 'markings': 326, 'predominantly': 388, 'tricolour': 509, 'tan': 479, 'usually': 520, 'found': 230, 'eyebrows': 209, 'cheeks': 123, 'inside': 275, 'under': 516, 'portion': 383, 'flecked': 221, 'ticking': 497, 'citation': 126, 'needed': 346, 'males': 323, 'line': 309, 'typically': 514, 'approximately': 72, '19': 14, '21': 23, '48': 39, '53': 42, 'cm': 129, 'withers': 543, 'weigh': 527, '40': 37, '60': 44, 'lb': 299, '18': 10, '27': 29, 'kg': 291, 'according': 50, 'uk': 515, 'standard': 463, 'should': 434, '20': 19, '51': 40, 'females': 213, '46': 38, '35': 35, '55': 43, '16': 8, '25': 27, 'types': 513, 'can': 114, 'lighter': 306, 'weight': 528, 'finer': 218, 'bone': 95, 'ranks': 398, '13th': 4, 'stanley': 464, 'coren': 151, 'intelligence': 276, '2022': 21, 'study': 469, 'life': 305, 'expectancy': 203, '11': 1, '92': 46, 'above': 48, 'average': 80, '23': 25, '2024': 22, '13': 3, 'compared': 142, 'an': 64, '12': 2, 'purebreeds': 395, 'crossbreeds': 157, '2005': 20, 'swedish': 475, '29': 31, 'died': 176, 'by': 112, 'age': 56, '10': 0, 'overall': 369, 'rate': 399, 'dying': 194, 'skin': 445, 'conditions': 147, 'predisposed': 385, 'include': 273, 'acral': 52, 'mutilation': 342, 'syndrome': 477, 'intertrigo': 277, 'lichenoid': 304, 'psoriasis': 393, 'form': 229, 'dermatitis': 166, 'malassezia': 322, 'otitis': 366, 'externa': 207, 'primary': 390, 'seborrhoea': 421, 'american': 63, 'reviewing': 411, 'over': 368, 'million': 335, 'cases': 118, 'presented': 389, 'veterinary': 524, 'teaching': 481, 'hospitals': 264, 'north': 351, 'america': 62, 'prediposed': 384, 'canine': 117, 'hip': 261, 'dysplasia': 195, '39': 36, 'having': 251, 'condition': 146, '52': 41, 'survey': 473, 'members': 330, 'cancer': 116, 'most': 340, 'common': 140, 'cause': 119, 'death': 163, '26': 28, 'deaths': 164, 'predisposition': 386, 'chronic': 125, 'hepatitis': 258, 'severe': 430, 'affects': 54, 'younger': 549, 'likely': 307, 'affect': 53, 'bitches': 90, 'one': 361, 'times': 499, 'acquire': 51, 'disease': 181, 'another': 68, 'odds': 356, 'ratio': 401, '14': 5, 'physician': 379, 'john': 287, 'caius': 113, 'described': 169, 'his': 262, 'book': 97, 'treatise': 506, 'englishe': 200, 'published': 394, '1576': 7, 'was': 525, 'work': 545, 'describe': 168, 'various': 522, 'british': 107, 'function': 234, '15': 6, '1801': 11, 'sydenham': 476, 'edwards': 197, 'explained': 204, 'cynographia': 159, 'britannica': 106, 'land': 295, 'split': 455, 'two': 511, 'kinds': 292, 'springing': 460, 'hawking': 253, 'starter': 465, 'cocking': 135, 'point': 380, 'both': 99, 'born': 98, 'litters': 313, 'purpose': 396, 'serve': 426, 'hunt': 267, 'gamebird': 239, 'air': 58, 'where': 533, 'trained': 504, 'falcon': 211, 'hawk': 252, 'bring': 105, 'handler': 248, 'many': 325, 'developed': 172, 'during': 192, 'often': 359, 'named': 345, 'after': 55, 'counties': 153, 'which': 534, 'owners': 370, 'who': 537, 'nobility': 348, 'strains': 467, 'predominant': 387, 'said': 417, 'true': 510, 'type': 512, 'these': 491, '1850s': 12, 'shown': 437, '17': 9, 'january': 286, '1899': 13, 'england': 198, 'sporting': 456, 'society': 451, 'held': 256, 'trials': 508, 'time': 498, 'three': 496, 'later': 297, 'combination': 137, 'physical': 378, 'led': 301, 'being': 86, 'officially': 358, 'followed': 225, '1910': 16, '1914': 17, 'champion': 122, 'crowned': 158, 'ftc': 233, 'rivington': 413, 'sam': 418, 'whose': 538, 'dam': 160, 'riband': 412, 'considered': 149, 'foundation': 231, 'sires': 441, 'foremost': 228, 'bird': 88, 'there': 490, 'several': 429, 'skills': 444, 'breeders': 103, 'train': 503, 'perform': 375, 'occupation': 355, 'notable': 353, 'search': 420, 'included': 274, 'buster': 110, 'dickin': 175, 'medal': 328, 'recipient': 402, 'royal': 415, 'army': 75, 'corps': 152, 'arms': 74, 'explosives': 205, 'serving': 427, 'duke': 191, 'wellington': 530, 'regiment': 404, 'iraq': 279, 'finding': 217, 'extremist': 208, 'hidden': 259, 'arsenal': 76, 'weapons': 526, 'example': 201, 'jake': 285, 'aka': 59, 'hubble': 266, 'keck': 289, 'people': 374, 'dispensary': 182, 'sick': 439, 'animals': 67, 'gold': 244, 'blue': 93, 'cross': 156, 'animal': 66, 'hospital': 263, 'london': 315, 'metropolitan': 332, 'police': 381, 'he': 254, 'deployed': 165, 'tavistock': 480, 'square': 461, 'russell': 416, 'king': 293, 'following': 226, 'july': 288, 'bombings': 94, 'detecting': 170, 'varied': 521, 'uses': 519, 'sniffing': 450, 'out': 367, 'bumblebee': 109, 'nests': 347, 'illegal': 269, 'immigrants': 270, '22': 24, 'blood': 92, 'superbug': 472, 'difficile': 180, '24': 26, 'drug': 190, 'detection': 171, 'united': 517, 'states': 466, 'kingdom': 294, 'sweden': 474, 'finland': 219, '28': 30, 'isle': 282, 'man': 324, 'ireland': 280, '30': 32, 'canada': 115, 'cbsa': 120, '31': 33, 'qatar': 397, '32': 34, 'rescue': 408, 'mountain': 341, 'lowland': 319, 'teams': 482, 'willingness': 540, 'cover': 155, 'rough': 414, 'terrain': 484, 'makes': 321, 'them': 489, 'excellent': 202, 'choice': 124, 'awarded': 81, 'conspicuous': 150, 'gallantry': 237, 'devotion': 173, 'duty': 193, 'military': 334, 'conflict': 148, 'pdsa': 371, 'bravery': 100, 'order': 364, 'merit': 331}\n"
          ]
        }
      ]
    },
    {
      "cell_type": "markdown",
      "source": [
        "### **TF-IDF**"
      ],
      "metadata": {
        "id": "YjqKg0QzGeIv"
      }
    },
    {
      "cell_type": "code",
      "source": [
        "vectorizer = TfidfVectorizer()\n",
        "# Fit and transform the text\n",
        "tfidf_matrix = vectorizer.fit_transform([scraped_text])\n",
        "\n",
        "# Get feature names to use as dataframe column headers\n",
        "feature_names = vectorizer.get_feature_names_out()\n",
        "\n",
        "# View the TF-IDF dense matrix\n",
        "dense = tfidf_matrix.todense()\n",
        "denselist = dense.tolist()\n",
        "\n",
        "df = pd.DataFrame(denselist, columns=feature_names)\n",
        "\n",
        "print(df)"
      ],
      "metadata": {
        "colab": {
          "base_uri": "https://localhost:8080/"
        },
        "id": "mqIqkQizFcIo",
        "outputId": "689c52cd-aa47-469d-f352-44106d57a094"
      },
      "execution_count": 13,
      "outputs": [
        {
          "output_type": "stream",
          "name": "stdout",
          "text": [
            "         10        11        12        13      13th        14        15  \\\n",
            "0  0.019451  0.019451  0.019451  0.012967  0.006484  0.006484  0.012967   \n",
            "\n",
            "       1576        16        17  ...  willingness      wiry      with  \\\n",
            "0  0.006484  0.012967  0.019451  ...     0.006484  0.006484  0.051868   \n",
            "\n",
            "    withers  woodcock      work   working     would     years   younger  \n",
            "0  0.012967  0.012967  0.012967  0.019451  0.032418  0.032418  0.006484  \n",
            "\n",
            "[1 rows x 550 columns]\n"
          ]
        }
      ]
    },
    {
      "cell_type": "markdown",
      "source": [
        "# Word embedding by WORD2VEC"
      ],
      "metadata": {
        "id": "8aVFrc1Q3aiW"
      }
    },
    {
      "cell_type": "code",
      "source": [
        "# Tokenize the corpus\n",
        "tokenized_corpus = [word_tokenize(doc.lower()) for doc in filtered_words]\n",
        "\n",
        "# Define corpus\n",
        "corpus = tokenized_corpus\n",
        "\n",
        "\n",
        "# Train the Word2Vec model\n",
        "model = Word2Vec(\n",
        "    sentences=corpus,      # The corpus to train the model on\n",
        "    vector_size=100,       # The size of the word vectors to be learned\n",
        "    window=5,              # The size of the window of words to be considered\n",
        "    min_count=5,           # The minimum frequency required for a word to be included in the vocabulary\n",
        "    sg=0,                  # 0 for CBOW, 1 for skip-gram\n",
        "    negative=5,            # The number of negative samples to use for negative sampling\n",
        "    ns_exponent=0.75,      # The exponent used to shape the negative sampling distribution\n",
        "    alpha=0.03,            # The initial learning rate\n",
        "    min_alpha=0.0007,      # The minimum learning rate to which the learning rate will be linearly reduced\n",
        "    epochs=30,             # The number of epochs (iterations) over the corpus\n",
        "    workers=4,             # The number of worker threads to use for training the model\n",
        "    seed=42,               # The seed for the random number generator\n",
        "    max_vocab_size=None    # The maximum vocabulary size (None means no limit)\n",
        ")\n",
        "\n",
        "# Get the vector representation of a word\n",
        "vector = model.wv['dog']\n",
        "\n",
        "# Find the most similar words to a given word\n",
        "similar_words = model.wv.most_similar('dog')\n",
        "\n",
        "# Print the vector and similar words\n",
        "print(\"Vector for 'dog':\", vector)\n",
        "print(\"Most similar words to 'dog':\", similar_words)"
      ],
      "metadata": {
        "colab": {
          "base_uri": "https://localhost:8080/"
        },
        "id": "KDOJPgoh3jJE",
        "outputId": "5d56d18e-42f7-46ac-beed-45c63b48ba29"
      },
      "execution_count": 14,
      "outputs": [
        {
          "output_type": "stream",
          "name": "stdout",
          "text": [
            "Vector for 'dog': [ 0.00041095  0.00232331 -0.00664561 -0.00657417 -0.0074132   0.00129901\n",
            " -0.00984293  0.00144861 -0.00048143 -0.0006803   0.00358552  0.00045264\n",
            "  0.00455497  0.00527847  0.00840236  0.00598489  0.00035412 -0.00015694\n",
            " -0.00528583  0.00199187 -0.00721729  0.00862472  0.00690089 -0.00760533\n",
            "  0.00571912 -0.00765793  0.0044245  -0.00824582 -0.00023613  0.00315727\n",
            "  0.00457622 -0.00162783  0.00843247  0.00548643 -0.00583471  0.00342463\n",
            "  0.00461069 -0.00332725  0.00476463  0.00796733  0.00634228  0.00525064\n",
            "  0.00268995 -0.0045893   0.00590446 -0.00271616  0.00064394 -0.0037112\n",
            " -0.00373966 -0.00684777  0.00922595 -0.00704433 -0.00827482  0.00872255\n",
            "  0.00110026 -0.00124192  0.00474983 -0.0023336  -0.00744157  0.00459371\n",
            " -0.00648001  0.00105986  0.00898132  0.0087228  -0.00278434  0.00560603\n",
            "  0.00225352 -0.00041261 -0.00720144 -0.00247281  0.00303836  0.00973263\n",
            " -0.00990219  0.0043552   0.00692674  0.00902389 -0.00152393 -0.00763043\n",
            " -0.00458066  0.00701067  0.0075587   0.00274148 -0.00754519 -0.00756157\n",
            " -0.00043656  0.00176516 -0.00935243  0.00372193  0.0008902  -0.00975395\n",
            " -0.00808645 -0.00091364  0.00445171  0.00650799 -0.00137397 -0.00409282\n",
            "  0.00936621 -0.00082904 -0.00369221 -0.00115372]\n",
            "Most similar words to 'dog': [('found', 0.18574346601963043), ('english', 0.16114819049835205), ('years', 0.13168013095855713), ('[', 0.10042651742696762), ('study', 0.0954069122672081), ('cocker', 0.06976981461048126), (']', 0.0630192756652832), (';', 0.04874977841973305), ('spaniels', 0.04484749957919121), (\"'s\", 0.030475204810500145)]\n"
          ]
        }
      ]
    },
    {
      "cell_type": "markdown",
      "source": [
        "\n",
        "**GloVe** (Global Vectors for Word Representation) is an unsupervised learning algorithm for obtaining vector representations for words. Training is performed on aggregated global word-word co-occurrence statistics from a corpus, and the resulting representations showcase linear substructures of the word vector space."
      ],
      "metadata": {
        "id": "cHhY2g4B-V5L"
      }
    },
    {
      "cell_type": "code",
      "source": [
        "\n",
        "from google.colab import drive\n",
        "drive.mount('/content/drive')"
      ],
      "metadata": {
        "colab": {
          "base_uri": "https://localhost:8080/"
        },
        "id": "GjCT_CWvlhEO",
        "outputId": "41c76281-ea2e-4f24-aea9-0a23c4ebc899"
      },
      "execution_count": 17,
      "outputs": [
        {
          "output_type": "stream",
          "name": "stdout",
          "text": [
            "Drive already mounted at /content/drive; to attempt to forcibly remount, call drive.mount(\"/content/drive\", force_remount=True).\n"
          ]
        }
      ]
    },
    {
      "cell_type": "code",
      "source": [
        "\n",
        "import os\n",
        "import numpy as np\n",
        "\n",
        "# Path to the directory in Google Drive\n",
        "directory_path = '/content/drive/My Drive/glove.6B'\n",
        "file_name = 'glove.6B.100d.txt'  # Update this with the correct file name\n",
        "\n",
        "# Full file path\n",
        "file_path = os.path.join(directory_path, file_name)\n",
        "\n",
        "# Verify file existence\n",
        "if os.path.exists(file_path):\n",
        "    print(\"File exists.\")\n",
        "    # Attempt to read the file\n",
        "    try:\n",
        "        with open(file_path, 'r', encoding='utf-8') as f:\n",
        "            first_line = f.readline()\n",
        "        print(\"File read successfully. First line:\")\n",
        "        print(first_line)\n",
        "    except Exception as e:\n",
        "        print(f\"Error reading file: {e}\")\n",
        "else:\n",
        "    print(\"File not found.\")\n",
        "\n",
        "\n",
        "# Function to load GloVe model\n",
        "def load_glove_model(glove_file):\n",
        "    print(\"Loading Glove Model\")\n",
        "    glove_model = {}\n",
        "    with open(glove_file, 'r', encoding='utf-8') as f:\n",
        "        for line in f:\n",
        "            split_line = line.split()\n",
        "            word = split_line[0]\n",
        "            embedding = np.array([float(val) for val in split_line[1:]])\n",
        "            glove_model[word] = embedding\n",
        "    print(f\"Done. {len(glove_model)} words loaded!\")\n",
        "    return glove_model\n",
        "\n",
        "# Load the GloVe model\n",
        "glove_model = load_glove_model(file_path)\n",
        "\n",
        "# Function to get the GloVe embedding for a word\n",
        "def get_glove_embedding(word, glove_model):\n",
        "    return glove_model.get(word, np.zeros(100))\n",
        "\n",
        "# Example usage\n",
        "word = 'dog'\n",
        "word_embedding = get_glove_embedding(word, glove_model)\n",
        "print(f\"GloVe vector for '{word}':\\n\", word_embedding)\n"
      ],
      "metadata": {
        "colab": {
          "base_uri": "https://localhost:8080/"
        },
        "id": "O3ev6iwU7ufE",
        "outputId": "01535f65-41df-4424-c4bc-8507671a766e"
      },
      "execution_count": 18,
      "outputs": [
        {
          "output_type": "stream",
          "name": "stdout",
          "text": [
            "File exists.\n",
            "File read successfully. First line:\n",
            "the -0.038194 -0.24487 0.72812 -0.39961 0.083172 0.043953 -0.39141 0.3344 -0.57545 0.087459 0.28787 -0.06731 0.30906 -0.26384 -0.13231 -0.20757 0.33395 -0.33848 -0.31743 -0.48336 0.1464 -0.37304 0.34577 0.052041 0.44946 -0.46971 0.02628 -0.54155 -0.15518 -0.14107 -0.039722 0.28277 0.14393 0.23464 -0.31021 0.086173 0.20397 0.52624 0.17164 -0.082378 -0.71787 -0.41531 0.20335 -0.12763 0.41367 0.55187 0.57908 -0.33477 -0.36559 -0.54857 -0.062892 0.26584 0.30205 0.99775 -0.80481 -3.0243 0.01254 -0.36942 2.2167 0.72201 -0.24978 0.92136 0.034514 0.46745 1.1079 -0.19358 -0.074575 0.23353 -0.052062 -0.22044 0.057162 -0.15806 -0.30798 -0.41625 0.37972 0.15006 -0.53212 -0.2055 -1.2526 0.071624 0.70565 0.49744 -0.42063 0.26148 -1.538 -0.30223 -0.073438 -0.28312 0.37104 -0.25217 0.016215 -0.017099 -0.38984 0.87424 -0.72569 -0.51058 -0.52028 -0.1459 0.8278 0.27062\n",
            "\n",
            "Loading Glove Model\n",
            "Done. 400000 words loaded!\n",
            "GloVe vector for 'dog':\n",
            " [ 0.30817    0.30938    0.52803   -0.92543   -0.73671    0.63475\n",
            "  0.44197    0.10262   -0.09142   -0.56607   -0.5327     0.2013\n",
            "  0.7704    -0.13983    0.13727    1.1128     0.89301   -0.17869\n",
            " -0.0019722  0.57289    0.59479    0.50428   -0.28991   -1.3491\n",
            "  0.42756    1.2748    -1.1613    -0.41084    0.042804   0.54866\n",
            "  0.18897    0.3759     0.58035    0.66975    0.81156    0.93864\n",
            " -0.51005   -0.070079   0.82819   -0.35346    0.21086   -0.24412\n",
            " -0.16554   -0.78358   -0.48482    0.38968   -0.86356   -0.016391\n",
            "  0.31984   -0.49246   -0.069363   0.018869  -0.098286   1.3126\n",
            " -0.12116   -1.2399    -0.091429   0.35294    0.64645    0.089642\n",
            "  0.70294    1.1244     0.38639    0.52084    0.98787    0.79952\n",
            " -0.34625    0.14095    0.80167    0.20987   -0.86007   -0.15308\n",
            "  0.074523   0.40816    0.019208   0.51587   -0.34428   -0.24525\n",
            " -0.77984    0.27425    0.22418    0.20164    0.017431  -0.014697\n",
            " -1.0235    -0.39695   -0.0056188  0.30569    0.31748    0.021404\n",
            "  0.11837   -0.11319    0.42456    0.53405   -0.16717   -0.27185\n",
            " -0.6255     0.12883    0.62529   -0.52086  ]\n"
          ]
        }
      ]
    },
    {
      "cell_type": "markdown",
      "source": [
        "# **CYK**"
      ],
      "metadata": {
        "id": "aHTczIAGX5M7"
      }
    },
    {
      "cell_type": "code",
      "source": [
        "import numpy as np\n",
        "import pandas as pd\n",
        "\n",
        "# Define the CFG in CNF\n",
        "cfg = {\n",
        "    'S': [['NP', 'VP']],\n",
        "    'PP': [['P', 'NP']],\n",
        "    'NP': [['Det', 'N'], ['Det', 'N', 'PP'], ['I']],\n",
        "    'VP': [['V', 'NP'], ['VP', 'PP']],\n",
        "    'Det': ['an', 'my'],\n",
        "    'N': ['elephant', 'pajamas'],\n",
        "    'V': ['shot'],\n",
        "    'P': ['in']\n",
        "}\n",
        "\n",
        "# Function to check if a production exists in the CFG\n",
        "def check_production(cfg, rhs):\n",
        "    return [lhs for lhs, prods in cfg.items() if rhs in prods]\n",
        "\n",
        "# CYK algorithm implementation\n",
        "def cyk_parse(words, cfg):\n",
        "    n = len(words)\n",
        "    table = [[set() for _ in range(n)] for _ in range(n)]\n",
        "\n",
        "    # Fill the table\n",
        "    for j in range(1, n+1):\n",
        "        for lhs, rhs in cfg.items():\n",
        "            if words[j-1] in rhs:\n",
        "                table[j-1][j-1].add(lhs)\n",
        "        for i in range(j-2, -1, -1):\n",
        "            for k in range(i+1, j):\n",
        "                for lhs, rhs in cfg.items():\n",
        "                    for production in rhs:\n",
        "                        if len(production) == 2:\n",
        "                            B, C = production\n",
        "                            if B in table[i][k-1] and C in table[k][j-1]:\n",
        "                                table[i][j-1].add(lhs)\n",
        "\n",
        "    return table\n",
        "\n",
        "# Define the sentences\n",
        "sentences = [\n",
        "    \"I shot an elephant\",\n",
        "    \"I shot an elephant in my pajamas\",\n",
        "    \"I shot my elephant in pajamas\",\n",
        "    \"I shot an elephant in pajamas\",\n",
        "    \"I shot my elephant\"\n",
        "]\n",
        "\n",
        "# Parse each sentence\n",
        "for sentence in sentences:\n",
        "    words = sentence.split()\n",
        "    table = cyk_parse(words, cfg)\n",
        "    print(f\"\\nSentence: {sentence}\")\n",
        "    df = pd.DataFrame(table)\n",
        "    print(df)\n"
      ],
      "metadata": {
        "colab": {
          "base_uri": "https://localhost:8080/"
        },
        "id": "8lfFVTwNYjy0",
        "outputId": "c04db25b-0da4-44cd-a7a7-125b641bca1d"
      },
      "execution_count": 19,
      "outputs": [
        {
          "output_type": "stream",
          "name": "stdout",
          "text": [
            "\n",
            "Sentence: I shot an elephant\n",
            "    0    1      2     3\n",
            "0  {}   {}     {}    {}\n",
            "1  {}  {V}     {}  {VP}\n",
            "2  {}   {}  {Det}  {NP}\n",
            "3  {}   {}     {}   {N}\n",
            "\n",
            "Sentence: I shot an elephant in my pajamas\n",
            "    0    1      2     3    4      5     6\n",
            "0  {}   {}     {}    {}   {}     {}    {}\n",
            "1  {}  {V}     {}  {VP}   {}     {}  {VP}\n",
            "2  {}   {}  {Det}  {NP}   {}     {}    {}\n",
            "3  {}   {}     {}   {N}   {}     {}    {}\n",
            "4  {}   {}     {}    {}  {P}     {}  {PP}\n",
            "5  {}   {}     {}    {}   {}  {Det}  {NP}\n",
            "6  {}   {}     {}    {}   {}     {}   {N}\n",
            "\n",
            "Sentence: I shot my elephant in pajamas\n",
            "    0    1      2     3    4    5\n",
            "0  {}   {}     {}    {}   {}   {}\n",
            "1  {}  {V}     {}  {VP}   {}   {}\n",
            "2  {}   {}  {Det}  {NP}   {}   {}\n",
            "3  {}   {}     {}   {N}   {}   {}\n",
            "4  {}   {}     {}    {}  {P}   {}\n",
            "5  {}   {}     {}    {}   {}  {N}\n",
            "\n",
            "Sentence: I shot an elephant in pajamas\n",
            "    0    1      2     3    4    5\n",
            "0  {}   {}     {}    {}   {}   {}\n",
            "1  {}  {V}     {}  {VP}   {}   {}\n",
            "2  {}   {}  {Det}  {NP}   {}   {}\n",
            "3  {}   {}     {}   {N}   {}   {}\n",
            "4  {}   {}     {}    {}  {P}   {}\n",
            "5  {}   {}     {}    {}   {}  {N}\n",
            "\n",
            "Sentence: I shot my elephant\n",
            "    0    1      2     3\n",
            "0  {}   {}     {}    {}\n",
            "1  {}  {V}     {}  {VP}\n",
            "2  {}   {}  {Det}  {NP}\n",
            "3  {}   {}     {}   {N}\n"
          ]
        }
      ]
    }
  ]
}